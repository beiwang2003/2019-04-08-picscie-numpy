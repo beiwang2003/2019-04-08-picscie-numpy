{
 "cells": [
  {
   "cell_type": "markdown",
   "metadata": {},
   "source": [
    "<br><br><br><br><br>\n",
    "\n",
    "# Why Python?"
   ]
  },
  {
   "cell_type": "markdown",
   "metadata": {},
   "source": [
    "<img src=\"img/pypl-2019.png\" width=\"100%\">"
   ]
  },
  {
   "cell_type": "markdown",
   "metadata": {},
   "source": [
    "### Why Python in science?\n",
    "\n",
    "<img src=\"img/python-r-cpp-googletrends-data.png\" width=\"100%\"><br>\n",
    "<img src=\"img/python-r-cpp-googletrends-dataset.png\" width=\"100%\">"
   ]
  },
  {
   "cell_type": "markdown",
   "metadata": {},
   "source": [
    "### Why Python in science?\n",
    "\n",
    "<img src=\"img/python-r-cpp-googletrends-datascience.png\" width=\"100%\"><br>\n",
    "<img src=\"img/python-r-cpp-googletrends-machinelearning.png\" width=\"100%\">"
   ]
  },
  {
   "cell_type": "markdown",
   "metadata": {},
   "source": [
    "### Why Python in science?\n",
    "\n",
    "<img src=\"img/root-spark-pandas-google-trends.png\" width=\"100%\">"
   ]
  },
  {
   "cell_type": "markdown",
   "metadata": {},
   "source": [
    "### Why Python in science?\n",
    "\n",
    "<br>\n",
    "\n",
    "Most machine learning libraries or their interfaces are in Python.\n",
    "\n",
    "<br>\n",
    "\n",
    "<center><img src=\"img/machinelearning-logos.png\" width=\"90%\"></center>"
   ]
  },
  {
   "cell_type": "markdown",
   "metadata": {},
   "source": [
    "### Why Python in science?\n",
    "\n",
    "<center><img src=\"img/mentions-of-programming-languages.png\" width=\"60%\"></center>"
   ]
  },
  {
   "cell_type": "markdown",
   "metadata": {},
   "source": [
    "### Why Python in science?\n",
    "\n",
    "<center><img src=\"img/ligo-notebook.png\" width=\"50%\"></center>"
   ]
  },
  {
   "cell_type": "markdown",
   "metadata": {},
   "source": [
    "<center><img src=\"img/shells-1.png\" width=\"70%\"></center>"
   ]
  },
  {
   "cell_type": "markdown",
   "metadata": {},
   "source": [
    "<center><img src=\"img/shells-2.png\" width=\"70%\"></center>"
   ]
  },
  {
   "cell_type": "markdown",
   "metadata": {},
   "source": [
    "<center><img src=\"img/shells-3.png\" width=\"70%\"></center>"
   ]
  },
  {
   "cell_type": "markdown",
   "metadata": {},
   "source": [
    "<center><img src=\"img/shells-4.png\" width=\"70%\"></center>"
   ]
  },
  {
   "cell_type": "markdown",
   "metadata": {},
   "source": [
    "<center><img src=\"img/shells-5.png\" width=\"70%\"></center>"
   ]
  },
  {
   "cell_type": "markdown",
   "metadata": {},
   "source": [
    "### The key to ecosystem development was a common array library\n",
    "\n",
    "| Date | Development |\n",
    "|:----:|:-----|\n",
    "| 1994 | **Python** 1.0 released. |\n",
    "| 1995 | **Numeric** was the first array package (a.k.a. Numerical, Numerical Python, Numpy). |\n",
    "| 2001 | **SciPy** gathered scientific functions into one codebase. |\n",
    "| 2003 | **Matplotlib** released (though it was one among many plotters... R.I.P. **Biggles**). |\n",
    "| 2003 | **Numarray** introduced as a competitor to **Numeric** with more features (memory-mapped files, alignment, record arrays). |\n",
    "| <br> | _Scientific Python community split over building their applications on **Numeric** or **Numarray**!_ |\n",
    "| 2005 | **Numpy**, a new library, unifies features of **Numeric** and **Numarray**, becomes the common array library. |"
   ]
  },
  {
   "cell_type": "markdown",
   "metadata": {},
   "source": [
    "### The key to ecosystem development was a common array library\n",
    "\n",
    "| Date | Development |\n",
    "|:----:|:-----|\n",
    "| 1994 | **Python** 1.0 released. |\n",
    "| 1995 | **Numeric** was the first array package (a.k.a. Numerical, Numerical Python, Numpy). |\n",
    "| 2001 | **SciPy** gathered scientific functions into one codebase. |\n",
    "| 2003 | **Matplotlib** released (though it was one among many plotters... R.I.P. **Biggles**). |\n",
    "| 2003 | **Numarray** introduced as a competitor to **Numeric** with more features (memory-mapped files, alignment, record arrays). |\n",
    "| <br> | _Scientific Python community split over building their applications on **Numeric** or **Numarray**!_ |\n",
    "| 2005 | **Numpy**, a new library, unified features of **Numeric** and **Numarray**, became the common array library. |\n",
    "| 2008 | **Pandas** first released. |\n",
    "| 2010 | **Scikit-Learn** first released. |\n",
    "| 2011 | **AstroPy** first released. |\n",
    "| 2012 | **Anaconda** first released. |\n",
    "| 2014 | **Jupyter** first released. |\n",
    "| 2015 | **Keras** first released. |"
   ]
  },
  {
   "cell_type": "code",
   "execution_count": null,
   "metadata": {},
   "outputs": [],
   "source": [
    "# Numpy provides speed and conciseness over pure Python\n",
    "\n",
    "import numpy\n",
    "BIG = 1000000\n",
    "pt = abs(numpy.random.normal(100, 10, BIG))\n",
    "eta = numpy.random.normal(0, 2, BIG)\n",
    "\n",
    "# Pythonic:\n",
    "pz1 = numpy.empty(len(pt))\n",
    "for i in range(len(pt)):\n",
    "    pz1[i] = pt[i] * numpy.sinh(eta[i])\n",
    "\n",
    "# Numpythonic:\n",
    "pz2 = pt * numpy.sinh(eta)\n",
    "\n",
    "print(pz1)\n",
    "print(pz2)"
   ]
  },
  {
   "cell_type": "markdown",
   "metadata": {},
   "source": [
    "### Numpy is for simple operations on many elements\n",
    "\n",
    "<br>\n",
    "\n",
    "| Pythonic | Numpythonic |\n",
    "|:----|:----|\n",
    "| **_O(n)_** Python bytecode instructions | **_O(1)_** Python bytecode instructions |\n",
    "| **_O(n)_** type-checks | **_O(1)_** type-checks |\n",
    "| **_O(n)_** interpreter locks | **_O(1)_** interpreter locks |\n",
    "| <br> | **_O(n)_** statically typed, native bytecode operations |\n",
    "\n",
    "<br>\n",
    "\n",
    "In other words, Numpy performs a <b>S</b>ingle (Python) <b>I</b>nstruction on <b>M</b>ultiple <b>D</b>ata.\n",
    "\n",
    "Conceptually similar to SIMD, the program flow of GPUs."
   ]
  },
  {
   "cell_type": "markdown",
   "metadata": {},
   "source": [
    "### Programming style introduced by APL, recurring in data-processing languages\n",
    "\n",
    "<br>\n",
    "\n",
    "<center><img src=\"img/apl-timeline.png\" width=\"80%\"></center>"
   ]
  },
  {
   "cell_type": "markdown",
   "metadata": {},
   "source": [
    "### APL pioneered conciseness; discovered the mistake of being too concise\n",
    "\n",
    "<img src=\"img/tshirt.jpg\" width=\"20%\" align=\"right\">\n",
    "\n",
    "Conway's Game of Life is one line of APL code:\n",
    "\n",
    "```\n",
    "life ← {↑1　⍵∨.∧3　4=+/,¯1　0　1∘.⊖¯1　0　1∘.⌽⊂⍵}\n",
    "```\n",
    "\n",
    "\"Map\" is implicit, \"reduce\" is a slash, functions are symbols.\n",
    "\n",
    "<center><img src=\"img/apl-keyboard.jpg\" width=\"40%\"></center>"
   ]
  },
  {
   "cell_type": "markdown",
   "metadata": {},
   "source": [
    "### Numpy (generations later) strikes a balance: the right amount of conciseness\n",
    "\n",
    "| APL | <br> | Numpy |\n",
    "|:---:|:----:|:-----:|\n",
    "| <tt>ι4</tt> | <br> | <tt>numpy.arange(4)</tt> |\n",
    "| <tt>(3+ι4)</tt> | <br> | <tt>numpy.arange(4) + 3</tt> |\n",
    "| <tt>+/(3+ι4)</tt> | <br> | <tt>(numpy.arange(4) + 3).sum()</tt> |\n",
    "| <tt>m ← +/(3+ι4)</tt> | <br> | <tt>m = (numpy.arange(4) + 3).sum()</tt> |"
   ]
  },
  {
   "cell_type": "code",
   "execution_count": null,
   "metadata": {},
   "outputs": [],
   "source": [
    "# Numpy game of life\n",
    "# life ← {↑1　⍵∨.∧3　4=+/,¯1　0　1∘.⊖¯1　0　1∘.⌽⊂⍵}\n",
    "\n",
    "world = numpy.random.poisson(0.3, (20, 100)).astype(bool)               # random array of booleans\n",
    "\n",
    "def step(world):\n",
    "    neighbors = numpy.zeros(world.shape, dtype=int)                     # initialize neighbors count\n",
    "    neighbors += numpy.roll(numpy.roll(world,  1, axis=0),  1, axis=1)  # add southwest\n",
    "    neighbors += numpy.roll(numpy.roll(world,  1, axis=0),  0, axis=1)  # add south\n",
    "    neighbors += numpy.roll(numpy.roll(world,  1, axis=0), -1, axis=1)  # add southeast\n",
    "    neighbors += numpy.roll(numpy.roll(world,  0, axis=0),  1, axis=1)  # add west\n",
    "    neighbors += numpy.roll(numpy.roll(world,  0, axis=0), -1, axis=1)  # add east\n",
    "    neighbors += numpy.roll(numpy.roll(world, -1, axis=0),  1, axis=1)  # add northwest\n",
    "    neighbors += numpy.roll(numpy.roll(world, -1, axis=0),  0, axis=1)  # add north\n",
    "    neighbors += numpy.roll(numpy.roll(world, -1, axis=0), -1, axis=1)  # add northeast\n",
    "\n",
    "    survivors = ((world == 1) & (neighbors > 1) & (neighbors < 4))      # old cells that survive\n",
    "    births    = ((world == 0) & (neighbors == 3))                       # new cells that are born\n",
    "\n",
    "    return (births | survivors).astype(world.dtype)                     # union as booleans\n",
    "\n",
    "show = lambda world: print(\"\\n\".join(\"|\" + \"\".join(\"*\" if y else \" \" for y in x) + \"|\" for x in world))"
   ]
  },
  {
   "cell_type": "code",
   "execution_count": null,
   "metadata": {},
   "outputs": [],
   "source": [
    "world = step(world)\n",
    "show(world)"
   ]
  },
  {
   "cell_type": "markdown",
   "metadata": {},
   "source": [
    "<br><br><br><br><br>\n",
    "\n",
    "Let's get started!"
   ]
  }
 ],
 "metadata": {
  "kernelspec": {
   "display_name": "Python 3",
   "language": "python",
   "name": "python3"
  },
  "language_info": {
   "codemirror_mode": {
    "name": "ipython",
    "version": 3
   },
   "file_extension": ".py",
   "mimetype": "text/x-python",
   "name": "python",
   "nbconvert_exporter": "python",
   "pygments_lexer": "ipython3",
   "version": "3.7.2"
  }
 },
 "nbformat": 4,
 "nbformat_minor": 2
}
