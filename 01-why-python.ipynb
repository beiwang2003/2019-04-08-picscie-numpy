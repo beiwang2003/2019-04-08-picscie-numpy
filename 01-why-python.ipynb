{
 "cells": [
  {
   "cell_type": "markdown",
   "metadata": {},
   "source": [
    "<br><br><br><br><br>\n",
    "\n",
    "# Why Python?"
   ]
  },
  {
   "cell_type": "markdown",
   "metadata": {},
   "source": [
    "<img src=\"img/pypl-2019.png\" width=\"100%\">"
   ]
  },
  {
   "cell_type": "markdown",
   "metadata": {},
   "source": [
    "# Why Python in science?\n",
    "\n",
    "<img src=\"img/python-r-cpp-googletrends-data.png\" width=\"100%\"><br>\n",
    "<img src=\"img/python-r-cpp-googletrends-dataset.png\" width=\"100%\">"
   ]
  },
  {
   "cell_type": "markdown",
   "metadata": {},
   "source": [
    "# Why Python in science?\n",
    "\n",
    "<img src=\"img/python-r-cpp-googletrends-datascience.png\" width=\"100%\"><br>\n",
    "<img src=\"img/python-r-cpp-googletrends-machinelearning.png\" width=\"100%\">"
   ]
  },
  {
   "cell_type": "markdown",
   "metadata": {},
   "source": [
    "# Why Python in science?\n",
    "\n",
    "<img src=\"img/root-spark-pandas-google-trends.png\" width=\"100%\">"
   ]
  },
  {
   "cell_type": "markdown",
   "metadata": {},
   "source": [
    "# Why Python in science?\n",
    "\n",
    "<br>\n",
    "\n",
    "Most machine learning libraries or their interfaces are in Python.\n",
    "\n",
    "<br>\n",
    "\n",
    "<center><img src=\"img/machinelearning-logos.png\" width=\"90%\"></center>"
   ]
  },
  {
   "cell_type": "markdown",
   "metadata": {},
   "source": [
    "# Why Python in science?\n",
    "\n",
    "<center><img src=\"img/mentions-of-programming-languages.png\" width=\"60%\"></center>"
   ]
  },
  {
   "cell_type": "markdown",
   "metadata": {},
   "source": [
    "# Why Python in science?\n",
    "\n",
    "<center><img src=\"img/ligo-notebook.png\" width=\"50%\"></center>"
   ]
  },
  {
   "cell_type": "code",
   "execution_count": null,
   "metadata": {},
   "outputs": [],
   "source": []
  }
 ],
 "metadata": {
  "kernelspec": {
   "display_name": "Python 3",
   "language": "python",
   "name": "python3"
  },
  "language_info": {
   "codemirror_mode": {
    "name": "ipython",
    "version": 3
   },
   "file_extension": ".py",
   "mimetype": "text/x-python",
   "name": "python",
   "nbconvert_exporter": "python",
   "pygments_lexer": "ipython3",
   "version": "3.7.2"
  }
 },
 "nbformat": 4,
 "nbformat_minor": 2
}
