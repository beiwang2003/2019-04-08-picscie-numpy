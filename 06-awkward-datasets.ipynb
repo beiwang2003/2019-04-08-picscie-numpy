{
 "cells": [
  {
   "cell_type": "markdown",
   "metadata": {},
   "source": [
    "<br><br><br><br><br>\n",
    "\n",
    "# Awkward datasets\n",
    "\n",
    "<br><br><br><br><br>"
   ]
  },
  {
   "cell_type": "markdown",
   "metadata": {},
   "source": [
    "<br><br><br><br><br>\n",
    "\n",
    "It's not uncommon for data to be non-rectangular. Jagged (\"ragged\") arrays, cross-references, trees, and graphs are frequently encountered, but difficult to cast as Numpy arrays or Pandas DataFrames.\n",
    "\n",
    "<br>\n",
    "\n",
    "**Let's start with NASA's exoplanet database:** each star can have an arbitrary number of planets (jagged array).\n",
    "\n",
    "<br><br><br><br><br>"
   ]
  },
  {
   "cell_type": "code",
   "execution_count": null,
   "metadata": {},
   "outputs": [],
   "source": [
    "import pandas\n",
    "\n",
    "# NASA provides this dataset as a CSV file, which suggests a rectangular table: one row per planet.\n",
    "exoplanets = pandas.read_csv(\"data/nasa-exoplanets.csv\")\n",
    "exoplanets"
   ]
  },
  {
   "cell_type": "code",
   "execution_count": null,
   "metadata": {},
   "outputs": [],
   "source": [
    "# Quite a few planets in this table have the same star (\"host\") name.\n",
    "\n",
    "numplanets = exoplanets.groupby(\"pl_hostname\").size()\n",
    "numplanets[numplanets > 1]"
   ]
  },
  {
   "cell_type": "code",
   "execution_count": null,
   "metadata": {},
   "outputs": [],
   "source": [
    "# Use Pandas's MultiIndex to represent a sparse, 2D index (stars × planets without missing values).\n",
    "\n",
    "exoplanets.index = pandas.MultiIndex.from_arrays([exoplanets[\"pl_hostname\"], exoplanets[\"pl_letter\"]])\n",
    "exoplanets.index.names = [\"star\", \"planet\"]\n",
    "exoplanets"
   ]
  },
  {
   "cell_type": "code",
   "execution_count": null,
   "metadata": {},
   "outputs": [],
   "source": [
    "# Simplify the table to show 5 star attributes and 5 planet attributes. Star attributes are repeated.\n",
    "\n",
    "df = exoplanets[[\"ra\", \"dec\", \"st_dist\", \"st_mass\", \"st_rad\", \"pl_orbsmax\", \"pl_orbeccen\", \"pl_orbper\", \"pl_bmassj\", \"pl_radj\"]]\n",
    "df.columns = pandas.MultiIndex.from_arrays([[\"star\"] * 5 + [\"planet\"] * 5,\n",
    "    [\"right asc. (deg)\", \"declination (deg)\", \"distance (pc)\", \"mass (solar)\", \"radius (solar)\", \"orbit (AU)\", \"eccen.\", \"period (days)\", \"mass (Jupiter)\", \"radius (Jupiter)\"]])\n",
    "df"
   ]
  },
  {
   "cell_type": "code",
   "execution_count": null,
   "metadata": {},
   "outputs": [],
   "source": [
    "# DataFrame.unstack moves the sparse planet index into a dense set of columns.\n",
    "# Every column (reduced to 2: orbit and mass) is duplicated 8 times because one star has 8 planets.\n",
    "\n",
    "df[[(\"planet\", \"orbit (AU)\"), (\"planet\", \"mass (Jupiter)\")]].unstack(\"planet\")"
   ]
  },
  {
   "cell_type": "code",
   "execution_count": null,
   "metadata": {},
   "outputs": [],
   "source": [
    "# We can also select a cross-section (xs) of the index by planet letter to focus on one at a time.\n",
    "\n",
    "df.xs(\"b\", level=\"planet\")   # try \"c\", \"d\", \"e\", \"f\", \"g\", \"h\", \"i\""
   ]
  },
  {
   "cell_type": "markdown",
   "metadata": {},
   "source": [
    "<br><br><br><br><br>\n",
    "\n",
    "### Alternative: stars and planets as nested objects\n",
    "\n",
    "<br><br><br><br><br>"
   ]
  },
  {
   "cell_type": "code",
   "execution_count": null,
   "metadata": {},
   "outputs": [],
   "source": [
    "# Despite the nice tools Pandas provides, it's easier to think of stars and planets as objects.\n",
    "\n",
    "stardicts = []\n",
    "for (starname, planetname), row in df.iterrows():\n",
    "    if len(stardicts) == 0 or stardicts[-1][\"name\"] != starname:\n",
    "        stardicts.append({\"name\": starname,\n",
    "                          \"ra\": row[\"star\", \"right asc. (deg)\"],\n",
    "                          \"dec\": row[\"star\", \"declination (deg)\"],\n",
    "                          \"dist\": row[\"star\", \"distance (pc)\"],\n",
    "                          \"mass\": row[\"star\", \"mass (solar)\"],\n",
    "                          \"radius\": row[\"star\", \"radius (solar)\"],\n",
    "                          \"planets\": []})\n",
    "    stardicts[-1][\"planets\"].append({\"name\": planetname,\n",
    "                                     \"orbit\": row[\"planet\", \"orbit (AU)\"],\n",
    "                                     \"eccen\": row[\"planet\", \"eccen.\"],\n",
    "                                     \"period\": row[\"planet\", \"period (days)\"],\n",
    "                                     \"mass\": row[\"planet\", \"mass (Jupiter)\"],\n",
    "                                     \"radius\": row[\"planet\", \"radius (Jupiter)\"]})\n",
    "\n",
    "stardicts[:30]"
   ]
  },
  {
   "cell_type": "code",
   "execution_count": null,
   "metadata": {},
   "outputs": [],
   "source": [
    "# But this destroys Numpy's array-at-a-time performance and (in some cases) convenience.\n",
    "\n",
    "# Here's a way to get both (disclosure: I'm the author).\n",
    "import awkward\n",
    "\n",
    "stars = awkward.fromiter(stardicts)\n",
    "stars"
   ]
  },
  {
   "cell_type": "code",
   "execution_count": null,
   "metadata": {},
   "outputs": [],
   "source": [
    "# The data are logically a collection of nested lists and dicts...\n",
    "\n",
    "stars[:30].tolist()"
   ]
  },
  {
   "cell_type": "code",
   "execution_count": null,
   "metadata": {},
   "outputs": [],
   "source": [
    "# ...but they have been entirely converted into arrays.\n",
    "for starattr in \"name\", \"ra\", \"dec\", \"dist\", \"mass\", \"radius\":\n",
    "    print(\"{:15s} =\".format(\"stars[{!r:}]\".format(starattr)), stars[starattr])\n",
    "\n",
    "print()\n",
    "for planetattr in \"name\", \"orbit\", \"eccen\", \"period\", \"mass\", \"radius\":\n",
    "    print(\"{:26s} =\".format(\"stars['planets'][{!r:}]\".format(planetattr)), stars[\"planets\"][planetattr])"
   ]
  },
  {
   "cell_type": "code",
   "execution_count": null,
   "metadata": {},
   "outputs": [],
   "source": [
    "# The object structure is a façade, built on Numpy arrays.\n",
    "\n",
    "planet_masses = stars[\"planets\"][\"mass\"]\n",
    "\n",
    "# It appears to be a list of lists;\n",
    "print(\"\\nplanet_masses =\", planet_masses)\n",
    "\n",
    "# but it is a JaggedArray class instance;\n",
    "print(\"\\ntype(planet_masses) =\", type(planet_masses))\n",
    "\n",
    "# whose numerical data are in a content array;\n",
    "print(\"\\nplanet_masses.content =\", planet_masses.content)\n",
    "\n",
    "# and divisions between stars are encoded in an offsets array.\n",
    "print(\"\\nplanet_masses.offsets =\", planet_masses.offsets)"
   ]
  },
  {
   "cell_type": "code",
   "execution_count": null,
   "metadata": {},
   "outputs": [],
   "source": [
    "# Pandas's unstack becomes...\n",
    "\n",
    "stars[\"planets\"][[\"orbit\", \"mass\"]].pad(8).tolist()"
   ]
  },
  {
   "cell_type": "code",
   "execution_count": null,
   "metadata": {},
   "outputs": [],
   "source": [
    "# ...which can be used to produce regular Numpy arrays.\n",
    "\n",
    "maxplanets = stars[\"planets\"].counts.max()\n",
    "\n",
    "stars[\"planets\"][\"mass\"].pad(maxplanets).fillna(float(\"nan\")).regular()"
   ]
  },
  {
   "cell_type": "code",
   "execution_count": null,
   "metadata": {},
   "outputs": [],
   "source": [
    "# Pandas's cross-section becomes...\n",
    "\n",
    "stars[\"planets\"][:, 0].tolist()"
   ]
  },
  {
   "cell_type": "code",
   "execution_count": null,
   "metadata": {},
   "outputs": [],
   "source": [
    "# ...though the first dimension must be selected for >= n subelements to ask for the nth subelement.\n",
    "\n",
    "print(\"stars['planets'].counts =\", stars[\"planets\"].counts)\n",
    "\n",
    "atleast3 = (stars[\"planets\"].counts >= 3)\n",
    "print(\"atleast3 =\", atleast3)\n",
    "\n",
    "stars[\"planets\"][atleast3, 2].tolist()"
   ]
  },
  {
   "cell_type": "code",
   "execution_count": null,
   "metadata": {},
   "outputs": [],
   "source": [
    "# Motivated by particle physics analyses, which have particularly complex events.\n",
    "import uproot\n",
    "\n",
    "# Open a simplified file (for tutorials).\n",
    "lhc_data = uproot.open(\"http://scikit-hep.org/uproot/examples/HZZ.root\")[\"events\"]\n",
    "\n",
    "# Read columns of data for particle energies.\n",
    "particle_energies = lhc_data.arrays([\"*_E\"], namedecode=\"utf-8\")\n",
    "\n",
    "# There's a different number of particles for each particle type in each event.\n",
    "for name, array in particle_energies.items():\n",
    "    print(\"\\nparticle_energies['{}'] = {}\".format(name, array))"
   ]
  },
  {
   "cell_type": "markdown",
   "metadata": {},
   "source": [
    "<br><br>\n",
    "\n",
    "### Overview of Awkward Arrays\n",
    "\n",
    "Awkward Array (`import awkward`) has been designed to resemble a generalization of Numpy to\n",
    "\n",
    "   * jagged arrays\n",
    "   * non-rectangular tables\n",
    "   * nullable types\n",
    "   * heterogeneous lists\n",
    "   * cross-references and cyclic references\n",
    "   * non-contiguous arrays\n",
    "   * virtual data and objects\n",
    "\n",
    "<br><br>"
   ]
  },
  {
   "cell_type": "code",
   "execution_count": null,
   "metadata": {},
   "outputs": [],
   "source": [
    "# Generate simple data or convert from JSON using fromiter.\n",
    "\n",
    "a = awkward.fromiter([[1.1, 2.2, 3.3], [], [4.4, 5.5]])\n",
    "\n",
    "# Columnar structure is built into the resulting object.\n",
    "print(\"\\na =\", a)\n",
    "print(\"\\ntype(a) =\", type(a))\n",
    "print(\"\\na.content =\", a.content)\n",
    "print(\"\\na.offsets =\", a.offsets)"
   ]
  },
  {
   "cell_type": "code",
   "execution_count": null,
   "metadata": {},
   "outputs": [],
   "source": [
    "# Numpy ufuncs pass through the structure for array-at-a-time calculations.\n",
    "\n",
    "# (Uses the same __array_ufunc__ trick as CuPy and Dask...)\n",
    "\n",
    "import numpy\n",
    "\n",
    "a = awkward.fromiter([[1.1, 2.2, 3.3], [], [4.4, 5.5]])\n",
    "print(numpy.sqrt(a))"
   ]
  },
  {
   "cell_type": "code",
   "execution_count": null,
   "metadata": {},
   "outputs": [],
   "source": [
    "# Array-at-a-time calculations are only possible if all arguments have the same structure.\n",
    "\n",
    "a = awkward.fromiter([[1.1, 2.2, 3.3], [], [4.4, 5.5]])\n",
    "b = awkward.fromiter([[100, 200, 300], [], [400, 500]])\n",
    "\n",
    "print(\"a + b =\", a + b)"
   ]
  },
  {
   "cell_type": "code",
   "execution_count": null,
   "metadata": {},
   "outputs": [],
   "source": [
    "# In Numpy, scalars can be \"broadcasted\" to be used in calculations with arrays.\n",
    "\n",
    "# Generalizing this, Numpy arrays can be \"broadcasted\" to fit jagged arrays.\n",
    "\n",
    "a = awkward.fromiter([[1.1, 2.2, 3.3], [], [4.4, 5.5]])\n",
    "b = numpy.array([100, 200, 300])\n",
    "\n",
    "print(\"a + b =\", a + b)"
   ]
  },
  {
   "cell_type": "code",
   "execution_count": null,
   "metadata": {},
   "outputs": [],
   "source": [
    "# Slicing works like Numpy.\n",
    "\n",
    "a = awkward.fromiter([[1.1, 2.2, 3.3, 4.4], [5.5, 6.6], [7.7, 8.8, 9.9]])\n",
    "\n",
    "# Take the first two outer lists.\n",
    "print(\"\\na[:2]    =\", a[:2])\n",
    "\n",
    "# Take the first two of each inner list.\n",
    "print(\"\\na[:, :2] =\", a[:, :2])"
   ]
  },
  {
   "cell_type": "code",
   "execution_count": null,
   "metadata": {},
   "outputs": [],
   "source": [
    "# Masking works like Numpy, but with new capabilities for jagged masks.\n",
    "\n",
    "a          = awkward.fromiter([[ 1.1,   2.2,   3.3,  4.4], [  5.5,  6.6], [  7.7,  8.8,   9.9]])\n",
    "mask       = awkward.fromiter([True,                       False,         True])\n",
    "jaggedmask = awkward.fromiter([[True, False, False, True], [False, True], [False, False, False]])\n",
    "\n",
    "# Filter outer lists.\n",
    "print(\"\\na[mask]       =\", a[mask])\n",
    "\n",
    "# Filter inner lists.\n",
    "print(\"\\na[jaggedmask] =\", a[jaggedmask])"
   ]
  },
  {
   "cell_type": "code",
   "execution_count": null,
   "metadata": {},
   "outputs": [],
   "source": [
    "# Integer indexing works like Numpy, but with new capabilities for jagged indexes.\n",
    "\n",
    "a           = awkward.fromiter([[1.1, 2.2, 3.3, 4.4], [5.5, 6.6], [7.7, 8.8, 9.9]])\n",
    "index       = awkward.fromiter([2, 1, 1, 0])\n",
    "jaggedindex = awkward.fromiter([[3, 0, 0, 1, 2], [], [-1]])\n",
    "\n",
    "# Apply an integer function to outer lists.\n",
    "print(\"\\na[index]       =\", a[index])\n",
    "\n",
    "# Apply an integer function to inner lists.\n",
    "print(\"\\na[jaggedindex] =\", a[jaggedindex])"
   ]
  },
  {
   "cell_type": "code",
   "execution_count": null,
   "metadata": {},
   "outputs": [],
   "source": [
    "# In Numpy, \"reducers\" turn arrays into scalars.\n",
    "\n",
    "# Generalizing this, jagged arrays can be \"reduced\" to Numpy arrays.\n",
    "\n",
    "a = awkward.fromiter([[1.1, 2.2, 3.3], [], [4.4, 5.5]])\n",
    "\n",
    "print(\"\\na.sum() =\", a.sum())\n",
    "print(\"\\na.max() =\", a.max())"
   ]
  },
  {
   "cell_type": "code",
   "execution_count": null,
   "metadata": {},
   "outputs": [],
   "source": [
    "# Like Numpy, argmax and argmin produce integer indexes appropriate for application to arrays.\n",
    "\n",
    "a = awkward.fromiter([[1.1, 2.2, 3.3], [], [4.4, 5.5]])\n",
    "b = awkward.fromiter([[100, 200, 300], [], [400, 500]])\n",
    "\n",
    "indexes = a.argmax()\n",
    "print(\"\\nindexes    =\", indexes)\n",
    "print(\"\\nb[indexes] =\", b[indexes])"
   ]
  },
  {
   "cell_type": "code",
   "execution_count": null,
   "metadata": {},
   "outputs": [],
   "source": [
    "# Since we often deal with different numbers of objects in the same event, we need ways to\n",
    "# match them for comparison.\n",
    "\n",
    "a = awkward.fromiter([[1.1, 2.2, 3.3], [],   [4.4, 5.5]])\n",
    "b = awkward.fromiter([[10, 20],        [30], [40]])\n",
    "\n",
    "print(\"\\na.cross(b) =\", a.cross(b))\n",
    "print(\"\\na.cross(b).i0 (lefts)  =\", a.cross(b).i0)\n",
    "print(\"\\na.cross(b).i1 (rights) =\", a.cross(b).i1)"
   ]
  },
  {
   "cell_type": "markdown",
   "metadata": {},
   "source": [
    "<br><br><br><br><br>\n",
    "\n",
    "### Application to a realistic problem\n",
    "\n",
    "Based on a typical case in particle physics, but general enough for all sciences.\n",
    "\n",
    "<br><br><br><br><br>"
   ]
  },
  {
   "cell_type": "code",
   "execution_count": null,
   "metadata": {},
   "outputs": [],
   "source": [
    "# Suppose we have a variable number of real objects in each event.\n",
    "\n",
    "import collections\n",
    "T = collections.namedtuple(\"T\", [\"x\", \"y\"])\n",
    "\n",
    "truth = []\n",
    "for i in range(10):\n",
    "    truth.append([])\n",
    "    for j in range(numpy.random.poisson(2)):\n",
    "        truth[-1].append(T(*numpy.random.randint(0, 100, 2)/100))\n",
    "\n",
    "truth"
   ]
  },
  {
   "cell_type": "code",
   "execution_count": null,
   "metadata": {},
   "outputs": [],
   "source": [
    "# When we try to reconstruct these objects from the signals they produce,\n",
    "# the measurements have error, some unlucky objects are lost, and some spurious noise is added.\n",
    "\n",
    "M = collections.namedtuple(\"M\", [\"x\", \"y\"])\n",
    "\n",
    "error = lambda: numpy.random.normal(0, 0.001)\n",
    "unlucky = lambda: numpy.random.uniform(0, 1) < 0.2\n",
    "\n",
    "observed = []\n",
    "for event in truth:\n",
    "    observed.append([M(x + error(), y + error()) for x, y in event if not unlucky()])\n",
    "    for j in range(numpy.random.poisson(0.25)):\n",
    "        observed[-1].append(M(*numpy.random.normal(0.5, 0.25, 2)))\n",
    "\n",
    "observed"
   ]
  },
  {
   "cell_type": "code",
   "execution_count": null,
   "metadata": {},
   "outputs": [],
   "source": [
    "# So the simulated data look like this:\n",
    "\n",
    "data = awkward.Table(truth=awkward.fromiter(truth), observed=awkward.fromiter(observed))\n",
    "data.tolist()"
   ]
  },
  {
   "cell_type": "code",
   "execution_count": null,
   "metadata": {},
   "outputs": [],
   "source": [
    "# The measured objects were reconstructed from raw signals in our simulation by a complex process.\n",
    "\n",
    "# We want to match real and measured to learn what the simulation is telling us about measurement\n",
    "# errors, missing fraction, and spurious fraction.\n",
    "\n",
    "pairs = data[\"truth\"].cross(data[\"observed\"], nested=True)    # pairs for all combinations\n",
    "\n",
    "distances = numpy.sqrt((pairs.i0[\"x\"] - pairs.i1[\"x\"])**2 +   # compute distance for all\n",
    "                       (pairs.i0[\"y\"] - pairs.i1[\"y\"])**2)\n",
    "print(\"\\ndistances[0] =\", distances[0])\n",
    "\n",
    "best = distances.argmin()                                     # pick smallest distance\n",
    "print(\"\\nbest =\", best)\n",
    "\n",
    "good_enough = (distances[best] < 0.005)                       # exclude if the distance is too large\n",
    "print(\"\\ngood_enough =\", good_enough)\n",
    "\n",
    "good_pairs = pairs[best][good_enough].flatten(axis=1)         # select best and good enough; reduce\n",
    "print(\"\\ngood_pairs[0] =\", good_pairs[0])"
   ]
  },
  {
   "cell_type": "markdown",
   "metadata": {},
   "source": [
    "#### **Explode:** create deeper structures by combining the ones we have\n",
    "\n",
    "<center><img src=\"img/explode.png\" width=\"25%\"></center>\n",
    "\n",
    "#### **Flat:** compute something in a vectorized way\n",
    "\n",
    "<center><img src=\"img/flat.png\" width=\"25%\"></center>\n",
    "\n",
    "#### **Reduce:** use the new values to eliminate structure (max, sum, mean...)\n",
    "\n",
    "<center><img src=\"img/reduce.png\" width=\"25%\"></center>"
   ]
  },
  {
   "cell_type": "code",
   "execution_count": null,
   "metadata": {},
   "outputs": [],
   "source": [
    "# Other awkward types: nullable, heterogeneous lists, nested records...\n",
    "\n",
    "a = awkward.fromiter([[1.1, 2.2, None, 3.3, None],\n",
    "                      [4.4, [5.5]],\n",
    "                      [{\"x\": 6, \"y\": {\"z\": 7}}, None, {\"x\": 8, \"y\": {\"z\": 9}}]\n",
    "                     ])\n",
    "\n",
    "# Array type as a function signature\n",
    "print(a.type)\n",
    "print()\n",
    "\n",
    "# Vectorized operations all the way down\n",
    "(a + 100).tolist()"
   ]
  },
  {
   "cell_type": "code",
   "execution_count": null,
   "metadata": {},
   "outputs": [],
   "source": [
    "# Cross-references\n",
    "data = awkward.fromiter([\n",
    "    {\"tracks\": [{\"phi\": 1.0}, {\"phi\": 2.0}],\n",
    "     \"hits\": [{\"id\": 100, \"pos\": 3.7}, {\"id\": 50, \"pos\": 2.1}, {\"id\": 75, \"pos\": 2.5}]},\n",
    "    {\"tracks\": [{\"phi\": 1.5}],\n",
    "     \"hits\": [{\"id\": 100, \"pos\": 1.4}, {\"id\": 50, \"pos\": 0.7}, {\"id\": 75, \"pos\": 3.0}]}])\n",
    "data[\"tracks\"][\"hits-on-track\"] = \\\n",
    "    awkward.JaggedArray.fromcounts([2, 1],\n",
    "        awkward.JaggedArray.fromcounts([2, 2, 1, 1],\n",
    "            awkward.IndexedArray([0, 1, 1, 2, 3, 5],\n",
    "                data[\"hits\"].content)))\n",
    "data.tolist()"
   ]
  },
  {
   "cell_type": "code",
   "execution_count": null,
   "metadata": {},
   "outputs": [],
   "source": [
    "# Cyclic references\n",
    "tree = awkward.fromiter([\n",
    "    {\"value\": 1.23, \"left\":    1, \"right\":    2},     # node 0\n",
    "    {\"value\": 3.21, \"left\":    3, \"right\":    4},     # node 1\n",
    "    {\"value\": 9.99, \"left\":    5, \"right\":    6},     # node 2\n",
    "    {\"value\": 3.14, \"left\":    7, \"right\": None},     # node 3\n",
    "    {\"value\": 2.71, \"left\": None, \"right\":    8},     # node 4\n",
    "    {\"value\": 5.55, \"left\": None, \"right\": None},     # node 5\n",
    "    {\"value\": 8.00, \"left\": None, \"right\": None},     # node 6\n",
    "    {\"value\": 9.00, \"left\": None, \"right\": None},     # node 7\n",
    "    {\"value\": 0.00, \"left\": None, \"right\": None},     # node 8\n",
    "])\n",
    "left = tree.contents[\"left\"].content\n",
    "right = tree.contents[\"right\"].content\n",
    "left[(left < 0) | (left > 8)] = 0         # satisfy overzealous validity checks\n",
    "right[(right < 0) | (right > 8)] = 0\n",
    "tree.contents[\"left\"].content = awkward.IndexedArray(left, tree)\n",
    "tree.contents[\"right\"].content = awkward.IndexedArray(right, tree)\n",
    "\n",
    "tree[0].tolist()"
   ]
  },
  {
   "cell_type": "markdown",
   "metadata": {},
   "source": [
    "| Array type | Purpose | Members | Usage |\n",
    "|:-----------|:--------|:--------|:------|\n",
    "| JaggedArray | variable-sized data structures | starts, stops, content | ubiquitous |\n",
    "| Table | struct-like objects in columns | contents _(dict)_ | ubiquitous |\n",
    "| ObjectArray | arbitrary Python types on demand | generator, content | common |\n",
    "| Methods | mix-in methods and properties on any array type | _(none)_ | common |\n",
    "| MaskedArray | allow nullable values (`None`) | mask _(bytes)_, content | occasional |\n",
    "| BitMaskedArray | same, but with a bit-mask | mask _(bits)_, content | from Arrow |\n",
    "| IndexedMaskedArray | same, but with dense content | mask-index _(integers)_ content | rare |\n",
    "| IndexedArray | lazy integer indexing: \"pointers\" | index, content | rare |\n",
    "| SparseArray | huge array defined at a few indexes | index, content, default | rare |\n",
    "| UnionArray | heterogeneous types or data sources | tags, index, contents _(list)_ | rare |\n",
    "| StringArray | special case: jagged array of characters | starts, stops, content, string methods | common |\n",
    "| ChunkedArray | discontiguous array presented as a whole | counts, chunks _(lists)_ | from Parquet |\n",
    "| AppendableArray | chunked allocation for efficient appending | counts, chunks _(lists)_ | rare |\n",
    "| VirtualArray | array generated from a function when needed | generator, possible cached array | from Parquet |"
   ]
  }
 ],
 "metadata": {
  "kernelspec": {
   "display_name": "Python 3",
   "language": "python",
   "name": "python3"
  },
  "language_info": {
   "codemirror_mode": {
    "name": "ipython",
    "version": 3
   },
   "file_extension": ".py",
   "mimetype": "text/x-python",
   "name": "python",
   "nbconvert_exporter": "python",
   "pygments_lexer": "ipython3",
   "version": "3.7.2"
  }
 },
 "nbformat": 4,
 "nbformat_minor": 2
}
