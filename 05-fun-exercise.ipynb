{
 "cells": [
  {
   "cell_type": "markdown",
   "metadata": {},
   "source": [
    "<br><br><br><br><br>\n",
    "\n",
    "# Fun exercise with Numpy\n",
    "\n",
    "<br><br><br><br><br>"
   ]
  },
  {
   "cell_type": "code",
   "execution_count": 62,
   "metadata": {},
   "outputs": [],
   "source": [
    "def png(rgb):    # Numpy is concise enough to create PNG files from raw bytes in one screenful of code\n",
    "    def chunk(tag, data):\n",
    "        out = numpy.empty(4 + len(tag) + len(data) + 4, \"u1\")   # each chunk consists of:\n",
    "        out[0:4] = numpy.array([len(data)], \">u4\").view(\"u1\")   #   4-byte data size\n",
    "        out[4:8] = numpy.frombuffer(tag, \"u1\")                  #   4-byte tag (data type)\n",
    "        out[8:8 + len(data)] = numpy.frombuffer(data, \"u1\")     #   the data\n",
    "        crc = zlib.crc32(data, zlib.crc32(tag))                 #   CRC: cyclic redundancy check\n",
    "        out[-4:] = numpy.array([crc & 0xffffffff], \">u4\").view(\"u1\")\n",
    "        return out\n",
    "\n",
    "    preamble = numpy.frombuffer(b\"\\x89PNG\\r\\n\\x1a\\n\", \"u1\")     # preamble: \"this is a PNG file\"\n",
    "    width_height = numpy.array(rgb.shape[1::-1], \">u4\")         # header: size + image type (RGBA)\n",
    "    header = numpy.concatenate([width_height.view(\"u1\"), numpy.array([8, 6, 0, 0, 0], \"u1\")])\n",
    "    headerchunk = chunk(b\"IHDR\", header.tostring())\n",
    "\n",
    "    mini, maxi = rgb.min(), rgb.max()                           # normalize the value ranges\n",
    "    rgb = (255 / (maxi - mini))*(rgb - mini).astype(\"u1\")       # and convert to one byte per channel\n",
    "    data = numpy.empty((rgb.shape[0], 1 + 4*rgb.shape[1]), \"u1\")\n",
    "    data[:, 0], data[:, 4::4] = 0, 255                          # beginning of scanline and opacity\n",
    "    data[:, 1::4], data[:, 2::4], data[:, 3::4] = rgb[:, :, 0], rgb[:, :, 1], rgb[:, :, 2]  # R, G, B\n",
    "    datachunk = chunk(b\"IDAT\", zlib.compress(data.tostring()))  # scanlines are zlib-compressed\n",
    "\n",
    "    endchunk = chunk(b\"IEND\", b\"\")                              # IEND means no more chunks\n",
    "    return numpy.concatenate([preamble, headerchunk, datachunk, endchunk])"
   ]
  },
  {
   "cell_type": "code",
   "execution_count": 63,
   "metadata": {},
   "outputs": [
    {
     "data": {
      "image/png": "[encoded data removed]",
      "text/plain": [
       "<IPython.core.display.Image object>"
      ]
     },
     "metadata": {},
     "output_type": "display_data"
    }
   ],
   "source": [
    "import numpy\n",
    "import zlib\n",
    "import IPython.display\n",
    "\n",
    "def show(rgb):\n",
    "    return IPython.display.display(IPython.display.Image(data=png(rgb)))\n",
    "\n",
    "rgb = numpy.zeros((10, 20, 3))\n",
    "rgb[:5, :10, 0] = 1\n",
    "show(rgb)"
   ]
  }
 ],
 "metadata": {
  "kernelspec": {
   "display_name": "Python 3",
   "language": "python",
   "name": "python3"
  },
  "language_info": {
   "codemirror_mode": {
    "name": "ipython",
    "version": 3
   },
   "file_extension": ".py",
   "mimetype": "text/x-python",
   "name": "python",
   "nbconvert_exporter": "python",
   "pygments_lexer": "ipython3",
   "version": "3.7.2"
  }
 },
 "nbformat": 4,
 "nbformat_minor": 2
}
