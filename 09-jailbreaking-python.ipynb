{
 "cells": [
  {
   "cell_type": "markdown",
   "metadata": {},
   "source": [
    "<br><br><br><br><br>\n",
    "\n",
    "# Jailbreaking Python\n",
    "\n",
    "<br><br><br><br><br>"
   ]
  },
  {
   "cell_type": "markdown",
   "metadata": {},
   "source": [
    "### Tale of two VMs\n",
    "\n",
    "**Java** and **Python** are both high-level programming environments based on virtual machines. Your programs compile to virtual machine instructions that are emulated at runtime. This limits the consequences of mistakes, making it easier to develop interactively.\n",
    "\n",
    "However, **Java** and **Python**'s relationships to the outside world are very different.\n",
    "\n",
    "   * **Java** lives almost entirely inside its virtual machine. There's a pure Java library for just about everything, while its C API is very hard to use. Consequently, there are many Java Runtime Environment implementations, all satisfying the same specification.\n",
    "   * **Python** has extension modules for a lot of functionality. Its C API is relatively easy to use and there are dozens of wrappers. However, this makes it difficult for alterantive implementations, like PyPy, to compete with the standard CPython because most of those extension modules only work with CPython.\n",
    "\n",
    "**Python**, through its extension modules, is a leaky abstraction.\n",
    "\n",
    "<br>"
   ]
  },
  {
   "cell_type": "code",
   "execution_count": 1,
   "metadata": {},
   "outputs": [
    {
     "name": "stdout",
     "output_type": "stream",
     "text": [
      "Not allowed to change it: 'bytes' object does not support item assignment\n",
      "a = [ 72 101 108 108 111  44  32 119 111 114 108 100  33]\n",
      "a.view('S1') = [b'H' b'e' b'l' b'l' b'o' b',' b' ' b'w' b'o' b'r' b'l' b'd' b'!']\n",
      "hello = b'HellEVILorld!'\n"
     ]
    }
   ],
   "source": [
    "# Let's break Python!\n",
    "\n",
    "hello = b\"Hello, world!\"         # Python strings are immutable so they can be referenced, not copied.\n",
    "try:                             # A lot of code depends on strings not changing after they're made.\n",
    "    hello[4:8] = b\"????\"\n",
    "except TypeError as err:\n",
    "    print(\"Not allowed to change it: \" + str(err))\n",
    "\n",
    "import numpy                     # Wrap it with a Numpy array (not a copy).\n",
    "a = numpy.frombuffer(hello, dtype=numpy.uint8)\n",
    "print(\"a =\", a)\n",
    "print(\"a.view('S1') =\", a.view('S1'))\n",
    "\n",
    "a.flags.writeable = True         # Set the writable flag to True,\n",
    "a[4:8] = [69, 86, 73, 76]        # and we can write to it.\n",
    "\n",
    "print(\"hello =\", repr(hello))    # And it is evil."
   ]
  },
  {
   "cell_type": "code",
   "execution_count": 2,
   "metadata": {},
   "outputs": [
    {
     "name": "stdout",
     "output_type": "stream",
     "text": [
      "case 1: False\n",
      "case 2: True\n"
     ]
    }
   ],
   "source": [
    "# See how evil this is:\n",
    "\n",
    "# Interpreted as it looks: we change one b\"Hello, world!\" but not the other.\n",
    "hello = b\"Hello, world!\"\n",
    "a = numpy.frombuffer(hello, dtype=numpy.uint8)\n",
    "a.flags.writeable = True\n",
    "a[4:8] = [69, 86, 73, 76]\n",
    "print(\"case 1:\", hello == b\"Hello, world!\")\n",
    "\n",
    "# Interpreted as a single .pyc; literal b\"Hello, world!\" strings are replaced by a common object.\n",
    "exec(\"\"\"\n",
    "hello = b\"Hello, world!\"\n",
    "a = numpy.frombuffer(hello, dtype=numpy.uint8)\n",
    "a.flags.writeable = True\n",
    "a[4:8] = [69, 86, 73, 76]\n",
    "print(\"case 2:\", hello == b\"Hello, world!\")\n",
    "\"\"\")"
   ]
  },
  {
   "cell_type": "markdown",
   "metadata": {},
   "source": [
    "<br><br><br><br><br>\n",
    "\n",
    "### Python is an environment in which you can poke individual bytes\n",
    "\n",
    "<br><br><br><br><br>"
   ]
  },
  {
   "cell_type": "code",
   "execution_count": 3,
   "metadata": {},
   "outputs": [
    {
     "name": "stdout",
     "output_type": "stream",
     "text": [
      "a = [  2   0   0   0   0   0   0   0  32  22 161 221  72  86   0   0   1   0\n",
      "   0   0   0   0   0   0  57  48   0   0]\n"
     ]
    }
   ],
   "source": [
    "x = 12345\n",
    "\n",
    "import ctypes\n",
    "import sys\n",
    "\n",
    "ptr = ctypes.cast(id(x), ctypes.POINTER(ctypes.c_uint8))\n",
    "a = numpy.ctypeslib.as_array(ptr, (sys.getsizeof(x),))\n",
    "print(\"a =\", a)\n",
    "\n",
    "# We're looking at a Python object header, a pointer to the int type (also a Python object), and\n",
    "# then the number itself: 12345 in little endian bytes is [57, 48, 0, 0]. Do you see it?"
   ]
  },
  {
   "cell_type": "code",
   "execution_count": 4,
   "metadata": {},
   "outputs": [
    {
     "name": "stdout",
     "output_type": "stream",
     "text": [
      "a = [  2   0   0   0   0   0   0   0  32 226 160 221  72  86   0   0  10   0\n",
      "   0   0   0   0   0   0  79  79 192   9  38   9 212  73 228 171 183 242\n",
      " 166 127   0   0   0   0   0   0   0   0   0   0  72 101 121  32 116 104\n",
      " 101 114 101  46   0]\n",
      "\n",
      "a[-11:]            = [ 72 101 121  32 116 104 101 114 101  46   0]\n",
      "\n",
      "a[-11:].tostring() = b'Hey there.\\x00'\n"
     ]
    }
   ],
   "source": [
    "# Now for a string.\n",
    "\n",
    "y = \"Hey there.\"\n",
    "ptr = ctypes.cast(id(y), ctypes.POINTER(ctypes.c_uint8))\n",
    "a = numpy.ctypeslib.as_array(ptr, (sys.getsizeof(y),))\n",
    "print(\"a =\", a)\n",
    "\n",
    "print(\"\\na[-11:]            =\", a[-11:])\n",
    "\n",
    "print(\"\\na[-11:].tostring() =\", repr(a[-11:].tostring()))"
   ]
  },
  {
   "cell_type": "code",
   "execution_count": 7,
   "metadata": {},
   "outputs": [
    {
     "name": "stdout",
     "output_type": "stream",
     "text": [
      "ptr = <__main__.PyObject object at 0x7fa6f2b67d08>\n",
      "\n",
      "Before:\n",
      "ptr.ob_refcnt = 2 sys.getrefcount(hello) = 3\n",
      "\n",
      "After:\n",
      "ptr.ob_refcnt = 1002 sys.getrefcount(hello) = 1003\n"
     ]
    }
   ],
   "source": [
    "# The snake eats its own tail: reading PyObject refcount without changing it.\n",
    "class PyObject(ctypes.Structure): pass\n",
    "PyObject._fields_ = [(\"ob_refcnt\", ctypes.c_size_t),\n",
    "                     (\"ob_type\", ctypes.POINTER(PyObject))]\n",
    "\n",
    "hello = b\"Hello, world!\"\n",
    "ptr = PyObject.from_address(id(hello))\n",
    "print(\"ptr =\", ptr)\n",
    "\n",
    "print(\"\\nBefore:\")\n",
    "print(\"ptr.ob_refcnt =\", ptr.ob_refcnt, \"sys.getrefcount(hello) =\", sys.getrefcount(hello))\n",
    "\n",
    "biglist = [hello] * 1000\n",
    "print(\"\\nAfter:\")\n",
    "print(\"ptr.ob_refcnt =\", ptr.ob_refcnt, \"sys.getrefcount(hello) =\", sys.getrefcount(hello))"
   ]
  },
  {
   "cell_type": "markdown",
   "metadata": {},
   "source": [
    "<br><br><br><br><br>\n",
    "\n",
    "### Doing something _useful_ with this power\n",
    "\n",
    "<br><br><br><br><br>"
   ]
  },
  {
   "cell_type": "code",
   "execution_count": 5,
   "metadata": {},
   "outputs": [
    {
     "name": "stdout",
     "output_type": "stream",
     "text": [
      "a = [-511.5 -510.5 -509.5 ...  509.5  510.5  511.5]\n"
     ]
    }
   ],
   "source": [
    "# Suppose you're on a supercomputer with Non-Uniform Memory Access (NUMA) and you want Numpy arrays.\n",
    "\n",
    "import ctypes.util\n",
    "libnuma = ctypes.cdll.LoadLibrary(ctypes.util.find_library(\"numa\"))\n",
    "\n",
    "libnuma.numa_alloc_local.argtypes = (ctypes.c_size_t,)  # manually set the expected types (no .h file)\n",
    "libnuma.numa_alloc_local.restype = ctypes.POINTER(ctypes.c_double)\n",
    "\n",
    "ptr  = libnuma.numa_alloc_local(4*1024)                 # allocate it!\n",
    "a    = numpy.ctypeslib.as_array(ptr, (1024,))           # wrap it as an array!\n",
    "a[:] = numpy.linspace(-511.5, 511.5, 1024)              # assign to it; use it!\n",
    "\n",
    "print(\"a =\", a)"
   ]
  },
  {
   "cell_type": "code",
   "execution_count": 8,
   "metadata": {},
   "outputs": [],
   "source": [
    "# Of course, if you're allocating CPU-local memory in Numpy arrays, you'll want to ensure that\n",
    "# your thread doesn't switch to another CPU.\n",
    "\n",
    "import psutil\n",
    "psutil.Process().cpu_affinity([0])"
   ]
  },
  {
   "cell_type": "markdown",
   "metadata": {},
   "source": [
    "<br><br><br><br><br>\n",
    "\n",
    "### Interacting with C and C++\n",
    "\n",
    "With <tt>ctypes</tt>, we can call any function in any library that supports Foreign Function Interface (FFI). This includes almost every compiled language except C++.\n",
    "\n",
    "Both for C++ and for safety from low-level hacks, we should use a library.\n",
    "\n",
    "<br><br><br><br><br>"
   ]
  }
 ],
 "metadata": {
  "kernelspec": {
   "display_name": "Python 3",
   "language": "python",
   "name": "python3"
  },
  "language_info": {
   "codemirror_mode": {
    "name": "ipython",
    "version": 3
   },
   "file_extension": ".py",
   "mimetype": "text/x-python",
   "name": "python",
   "nbconvert_exporter": "python",
   "pygments_lexer": "ipython3",
   "version": "3.7.2"
  }
 },
 "nbformat": 4,
 "nbformat_minor": 2
}
