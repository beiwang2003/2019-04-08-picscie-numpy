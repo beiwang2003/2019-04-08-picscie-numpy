{
 "cells": [
  {
   "cell_type": "markdown",
   "metadata": {},
   "source": [
    "<br><br><br><br><br>\n",
    "\n",
    "# Day 1 Homework\n",
    "\n",
    "<br><br><br><br><br>"
   ]
  },
  {
   "cell_type": "markdown",
   "metadata": {},
   "source": [
    "<br><br><br><br><br>\n",
    "\n",
    "**You're going to implement a machine learning algorithm in Numpy.**\n",
    "\n",
    "<br>\n",
    "\n",
    "_(Don't worry—it's not that hard!)_\n",
    "\n",
    "<br><br><br><br><br>"
   ]
  },
  {
   "cell_type": "code",
   "execution_count": null,
   "metadata": {},
   "outputs": [],
   "source": [
    "%matplotlib inline\n",
    "import numpy, matplotlib.pyplot                                 # Setting up the problem...\n",
    "truth = numpy.random.normal(0, 3, (5, 2))                       # 5 random, 2D cluster centers\n",
    "data = []\n",
    "for x, y in truth:\n",
    "    data.append(numpy.empty((numpy.random.poisson(100), 2)))    # about 100 points in each\n",
    "    data[-1][:, 0] = numpy.random.normal(x, truth.std(axis=0)[0]/3, len(data[-1]))\n",
    "    data[-1][:, 1] = numpy.random.normal(y, truth.std(axis=0)[1]/3, len(data[-1]))\n",
    "for cluster in data:\n",
    "    matplotlib.pyplot.scatter(cluster[:, 0], cluster[:, 1]);    # visualize them separately"
   ]
  },
  {
   "cell_type": "code",
   "execution_count": null,
   "metadata": {},
   "outputs": [],
   "source": [
    "# The observed data are not labeled by cluster: the task is to identify centers of unlabeled data.\n",
    "\n",
    "observed = numpy.concatenate(data)\n",
    "numpy.random.shuffle(observed)\n",
    "\n",
    "matplotlib.pyplot.scatter(observed[:, 0], observed[:, 1]);\n",
    "\n",
    "\n",
    "\n"
   ]
  },
  {
   "cell_type": "code",
   "execution_count": null,
   "metadata": {},
   "outputs": [],
   "source": [
    "# The K-means algorithm is well suited to this task: run it from Scikit-Learn.\n",
    "\n",
    "import sklearn.cluster\n",
    "\n",
    "kmeans = sklearn.cluster.KMeans(n_clusters=5).fit(observed)\n",
    "\n",
    "matplotlib.pyplot.scatter(observed[:, 0], observed[:, 1])\n",
    "matplotlib.pyplot.scatter(kmeans.cluster_centers_[:, 0], kmeans.cluster_centers_[:, 1],\n",
    "                          s=100, facecolors=\"none\", edgecolors=\"darkorange\", linewidths=3);\n"
   ]
  },
  {
   "cell_type": "code",
   "execution_count": null,
   "metadata": {},
   "outputs": [],
   "source": [
    "# Implementing K-means ourselves...\n",
    "# Step 1: make an initial guess by randomly selecting 5 points from the dataset.\n",
    "def guess(observed):\n",
    "    indexes = numpy.random.choice(len(observed), 5, replace=False)\n",
    "    return numpy.stack([observed[i] for i in indexes])\n",
    "\n",
    "centers = guess(observed)\n",
    "matplotlib.pyplot.scatter(observed[:, 0], observed[:, 1])\n",
    "matplotlib.pyplot.scatter(centers[:, 0], centers[:, 1],\n",
    "                          s=100, facecolors=\"none\", edgecolors=\"darkorange\", linewidths=3);"
   ]
  },
  {
   "cell_type": "code",
   "execution_count": null,
   "metadata": {},
   "outputs": [],
   "source": [
    "# Step 2: associate each data point with the cluster center that it is closest to.\n",
    "def expectation(centers, observed):\n",
    "    clusters = [[] for i in range(5)]\n",
    "    for x, y in observed:\n",
    "        distances = [(x - center[0])**2 + (y - center[1])**2 for center in centers]\n",
    "        for i in range(5):\n",
    "            if all(distances[i] <= distances[j] for j in range(5)): clusters[i].append((x, y))\n",
    "    return [numpy.array(cluster) for cluster in clusters]\n",
    "\n",
    "for cluster in expectation(centers, observed): matplotlib.pyplot.scatter(cluster[:, 0], cluster[:, 1]);"
   ]
  },
  {
   "cell_type": "code",
   "execution_count": null,
   "metadata": {},
   "outputs": [],
   "source": [
    "# Step 3: update each cluster center to the average position of the data associated with it.\n",
    "def minimization(clusters):\n",
    "    xcenters = [sum(cluster[:, 0])/len(cluster) for cluster in clusters]\n",
    "    ycenters = [sum(cluster[:, 1])/len(cluster) for cluster in clusters]\n",
    "    return numpy.array(list(zip(xcenters, ycenters)))\n",
    "\n",
    "centers = minimization(expectation(centers, observed))\n",
    "matplotlib.pyplot.scatter(observed[:, 0], observed[:, 1])\n",
    "matplotlib.pyplot.scatter(centers[:, 0], centers[:, 1],\n",
    "                          s=100, facecolors=\"none\", edgecolors=\"darkorange\", linewidths=3);"
   ]
  },
  {
   "cell_type": "markdown",
   "metadata": {},
   "source": [
    "### Homework:\n",
    "\n",
    "Replace the implementations of\n",
    "\n",
    "   * `guess(observed)`\n",
    "   * `expectation(centers, observed)`\n",
    "   * `minimization(clusters)`\n",
    "\n",
    "with Numpythonic alternatives. Although <tt>guess</tt> can only be improved in style, the other two have execution speed issues: they run Python for loops over the entire dataset (`for x, y in observed` in <tt>expectation</tt> and implicitly using `sum(...)` in <tt>minimization</tt>).\n",
    "\n",
    "In your improved implementation, you're allowed to run Python for loops over the number of clusters (`5`) but not the number of observed data points (`~500`). Be aware that list/generator comprehensions and constructors that take iterators (e.g. `all`, `any`, `sum`, `list`, `zip`) count as Python for loops.\n",
    "\n",
    "The <tt>guess</tt> implementation can be reduced to 1 line, <tt>expectation</tt> to two lines, and <tt>minimization</tt> to 1 line (without semicolons, of course). I don't know of any way to do <tt>expectation</tt> in one line without repeating calculations."
   ]
  }
 ],
 "metadata": {
  "kernelspec": {
   "display_name": "Python 3",
   "language": "python",
   "name": "python3"
  },
  "language_info": {
   "codemirror_mode": {
    "name": "ipython",
    "version": 3
   },
   "file_extension": ".py",
   "mimetype": "text/x-python",
   "name": "python",
   "nbconvert_exporter": "python",
   "pygments_lexer": "ipython3",
   "version": "3.7.2"
  }
 },
 "nbformat": 4,
 "nbformat_minor": 2
}
