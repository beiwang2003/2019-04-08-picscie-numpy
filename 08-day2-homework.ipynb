{
 "cells": [
  {
   "cell_type": "markdown",
   "metadata": {},
   "source": [
    "<br><br><br><br><br>\n",
    "\n",
    "# Day 2 Homework\n",
    "\n",
    "<br><br><br><br><br>"
   ]
  },
  {
   "cell_type": "code",
   "execution_count": null,
   "metadata": {},
   "outputs": [],
   "source": [
    "# We'll be training a decision tree to reproduce an image, and then speed up the image prediction.\n",
    "\n",
    "# First, set up the tools we'll need to view the original image and models of it.\n",
    "\n",
    "import PIL.Image\n",
    "import numpy\n",
    "\n",
    "def show(data):\n",
    "    image = numpy.empty(data.shape + (3,))\n",
    "    image[:, :, :] = data.reshape(data.shape + (1,))\n",
    "    image -= image.min()\n",
    "    image *= 255 / image.max()\n",
    "    return PIL.Image.fromarray(image.astype(numpy.uint8))"
   ]
  },
  {
   "cell_type": "code",
   "execution_count": null,
   "metadata": {},
   "outputs": [],
   "source": [
    "y = numpy.array(PIL.Image.open(\"img/galaxy-infrared.jpg\")).mean(axis=2)\n",
    "height, width = y.shape\n",
    "X = numpy.dstack(numpy.mgrid[0:height, 0:width]).reshape(height * width, 2)\n",
    "show(y)"
   ]
  },
  {
   "cell_type": "code",
   "execution_count": null,
   "metadata": {},
   "outputs": [],
   "source": [
    "import sklearn.tree      # Start with an imprecise model: tree depth 4 is recognizable but low res.\n",
    "model = sklearn.tree.DecisionTreeRegressor(max_depth=4)\n",
    "model.fit(X, y.reshape(height * width, 1))\n",
    "show(model.predict(X).reshape(height, width))"
   ]
  },
  {
   "cell_type": "code",
   "execution_count": null,
   "metadata": {},
   "outputs": [],
   "source": [
    "import awkward           # Now convert Scikit-Learn's tree model into a Pythonic one that we control.\n",
    "\n",
    "def topython(model):\n",
    "    mask = model.tree_.children_left < 0\n",
    "    left = model.tree_.children_left.copy()\n",
    "    right = model.tree_.children_right.copy()\n",
    "    left[mask] = 0\n",
    "    right[mask] = 0\n",
    "\n",
    "    trees = awkward.Table()\n",
    "    trees[\"feature\"]   = awkward.MaskedArray(mask, model.tree_.feature)\n",
    "    trees[\"threshold\"] = awkward.MaskedArray(mask, model.tree_.threshold)\n",
    "    trees[\"left\"]      = awkward.MaskedArray(mask, awkward.IndexedArray(left, trees))\n",
    "    trees[\"right\"]     = awkward.MaskedArray(mask, awkward.IndexedArray(right, trees))\n",
    "    trees[\"value\"]     = model.tree_.value.reshape(mask.shape)\n",
    "\n",
    "    return trees[0].tolist()\n",
    "\n",
    "topython(model)"
   ]
  },
  {
   "cell_type": "code",
   "execution_count": null,
   "metadata": {},
   "outputs": [],
   "source": [
    "import time              # The Pythonic model prediction code is very simple.\n",
    "\n",
    "def predict(tree, x):\n",
    "    if tree[\"left\"] is None:\n",
    "        return tree[\"value\"]\n",
    "    elif x[tree[\"feature\"]] < tree[\"threshold\"]:\n",
    "        return predict(tree[\"left\"], x)\n",
    "    else:\n",
    "        return predict(tree[\"right\"], x)\n",
    "\n",
    "def predictall(tree, X):\n",
    "    return numpy.array([predict(tree, x) for x in X])"
   ]
  },
  {
   "cell_type": "code",
   "execution_count": null,
   "metadata": {},
   "outputs": [],
   "source": [
    "model = sklearn.tree.DecisionTreeRegressor(max_depth=16)       # A deeper tree → more resolution.\n",
    "model.fit(X, y.reshape(height * width, 1))\n",
    "st = time.time(); image = model.predict(X).reshape(height, width); print(time.time() - st, \"sec\")\n",
    "show(image)"
   ]
  },
  {
   "cell_type": "code",
   "execution_count": null,
   "metadata": {},
   "outputs": [],
   "source": [
    "starttime = time.time()                                        # But the Python version is super slow!\n",
    "image = predictall(topython(model), X).reshape(height, width)\n",
    "print(time.time() - starttime, \"sec\")\n",
    "show(image)"
   ]
  },
  {
   "cell_type": "markdown",
   "metadata": {},
   "source": [
    "### Homework\n",
    "\n",
    "**This Python code is about 700× slower than Scikit-Learn.**\n",
    "\n",
    "<br>\n",
    "\n",
    "Your task is to speed up <tt>predict(tree, x)</tt> (and maybe <tt>predictall(tree, X)</tt>) using Numba. You are allowed to change the data structure or even use the `model.tree_` arrays directly out of Scikit-Learn.\n",
    "\n",
    "Simply calling `model.predict` doesn't count.\n",
    "\n",
    "<br><br><br><br><br>"
   ]
  }
 ],
 "metadata": {
  "kernelspec": {
   "display_name": "Python 3",
   "language": "python",
   "name": "python3"
  },
  "language_info": {
   "codemirror_mode": {
    "name": "ipython",
    "version": 3
   },
   "file_extension": ".py",
   "mimetype": "text/x-python",
   "name": "python",
   "nbconvert_exporter": "python",
   "pygments_lexer": "ipython3",
   "version": "3.7.2"
  }
 },
 "nbformat": 4,
 "nbformat_minor": 2
}
