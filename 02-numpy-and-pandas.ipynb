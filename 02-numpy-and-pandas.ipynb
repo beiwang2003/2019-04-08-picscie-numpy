{
 "cells": [
  {
   "cell_type": "markdown",
   "metadata": {},
   "source": [
    "<br><br><br><br><br>\n",
    "\n",
    "# Numpy and Pandas"
   ]
  },
  {
   "cell_type": "code",
   "execution_count": null,
   "metadata": {},
   "outputs": [],
   "source": [
    "# Start with a plausible problem: analyze a dataset of daily Newark temperatures since 1883.\n",
    "\n",
    "with open(\"data/newark-temperature-avg.txt\") as file:\n",
    "    print(file.readlines())"
   ]
  },
  {
   "cell_type": "code",
   "execution_count": 3,
   "metadata": {},
   "outputs": [
    {
     "name": "stdout",
     "output_type": "stream",
     "text": [
      "how many? 42019\n",
      "starts with [nan, nan, nan, nan, nan, nan, nan, nan, nan, nan]\n",
      "ends with   [43.0, 47.0, 49.0, 52.0, 48.0, 52.0, 62.0, 68.0, 59.0, 47.0]\n"
     ]
    }
   ],
   "source": [
    "# Start with a plausible problem: analyze a dataset of daily Newark temperatures since 1883.\n",
    "\n",
    "temperatures = []\n",
    "with open(\"data/newark-temperature-avg.txt\") as file:\n",
    "    for line in file.readlines():\n",
    "        temperatures.append(float(line))\n",
    "\n",
    "print(\"how many?\", len(temperatures))\n",
    "print(\"starts with\", temperatures[:10])\n",
    "print(\"ends with  \", temperatures[-10:])"
   ]
  }
 ],
 "metadata": {
  "kernelspec": {
   "display_name": "Python 3",
   "language": "python",
   "name": "python3"
  },
  "language_info": {
   "codemirror_mode": {
    "name": "ipython",
    "version": 3
   },
   "file_extension": ".py",
   "mimetype": "text/x-python",
   "name": "python",
   "nbconvert_exporter": "python",
   "pygments_lexer": "ipython3",
   "version": "3.7.2"
  }
 },
 "nbformat": 4,
 "nbformat_minor": 2
}
