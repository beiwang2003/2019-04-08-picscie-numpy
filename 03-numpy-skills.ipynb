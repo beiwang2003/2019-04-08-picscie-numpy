{
 "cells": [
  {
   "cell_type": "markdown",
   "metadata": {},
   "source": [
    "<br><br><br><br><br>\n",
    "\n",
    "# Numpy skills\n",
    "\n",
    "<br><br><br><br><br>"
   ]
  },
  {
   "cell_type": "markdown",
   "metadata": {},
   "source": [
    "<br><br><br><br><br>\n",
    "\n",
    "Apart from Python itself, Numpy is the most basic part of the scientific ecosystem.\n",
    "\n",
    "Although you can look up special functions as you need them, some things are good to have at the tips of your fingers.\n",
    "\n",
    "(And as we've seen, these skills are transferrable to Pandas.)\n",
    "\n",
    "<br><br><br><br><br>"
   ]
  },
  {
   "cell_type": "code",
   "execution_count": null,
   "metadata": {},
   "outputs": [],
   "source": [
    "# Basic data type in Numpy: the n-dimensional array.\n",
    "\n",
    "import numpy\n",
    "\n",
    "a = numpy.array([2**30, 2**30 + 2**26, -1, 0, 2**30 + 2**24, 2**30 + 2**20], numpy.int32)\n",
    "# a = a.view(numpy.float32)\n",
    "# a = a.reshape((2, 3))\n",
    "\n",
    "print(\"data:\\n\", a, end=\"\\n\\n\")\n",
    "print(\"type:\", type(a), end=\"\\n\\n\")\n",
    "print(\"dtype (type of the data it contains):\", a.dtype, end=\"\\n\\n\")\n",
    "print(\"shape: (size of each dimension):\", a.shape, end=\"\\n\\n\")"
   ]
  },
  {
   "cell_type": "code",
   "execution_count": null,
   "metadata": {},
   "outputs": [],
   "source": [
    "# Basic function type in Numpy: the universal function or \"ufunc\".\n",
    "\n",
    "print(\"func:\", numpy.sqrt)\n",
    "print(\"type:\", type(numpy.sqrt))\n",
    "\n",
    "with numpy.errstate(invalid=\"ignore\"):    # to silently let sqrt(-1) → nan\n",
    "    b = numpy.sqrt(a)                     # call the ufunc!\n",
    "\n",
    "print()\n",
    "for ai, bi in zip(a, b):\n",
    "    print(\"{:12.1f}      \\u2192 {:12.1f}\".format(ai, bi))"
   ]
  },
  {
   "cell_type": "code",
   "execution_count": null,
   "metadata": {},
   "outputs": [],
   "source": [
    "# Even operations like +, -, *, / are ufuncs.\n",
    "\n",
    "class CatchUFunc:\n",
    "    def __init__(self, array):\n",
    "        self.array = array\n",
    "\n",
    "    # The following method overrides ufuncs, just to show what's being called. It's an ADVANCED topic.\n",
    "    def __array_ufunc__(self, ufunc, method, *inputs, **kwargs):\n",
    "        inputs = [x.array if isinstance(x, CatchUFunc) else x for x in inputs]\n",
    "        print(\"{}.{} is being called on{}\\nwith keyword arguments {}\".format(\n",
    "            ufunc, method, \"\".join(\"\\n    \" + str(x) for x in inputs), kwargs))\n",
    "        return getattr(ufunc, method)(*inputs, **kwargs)\n",
    "\n",
    "a = numpy.array([3.14, 2.71, 999.9])\n",
    "b = CatchUFunc(numpy.array([1.1, 2.2, 3.3]))\n",
    "\n",
    "a + b"
   ]
  },
  {
   "cell_type": "markdown",
   "metadata": {},
   "source": [
    "<br><br><br>\n",
    "\n",
    "**If you're working with a ufunc,**\n",
    "\n",
    "   * your input arrays (1 or more) must have the same `shape`;\n",
    "   * your output array (only 1) will have the same `shape`;\n",
    "   * a simple function is applied to each element, index for index (`out[i] = f(in[i])`);\n",
    "   * you don't know the order in which they're applied, or if some are applied simultaneously (vectorized).\n",
    "\n",
    "Numpy has other functions that do more complex things, but they are not ufuncs.\n",
    "\n",
    "<br><br><br>"
   ]
  },
  {
   "cell_type": "markdown",
   "metadata": {},
   "source": [
    "<br><br><br><br><br>\n",
    "\n",
    "### Slicing Numpy arrays\n",
    "\n",
    "<br><br><br><br><br>"
   ]
  },
  {
   "cell_type": "code",
   "execution_count": null,
   "metadata": {},
   "outputs": [],
   "source": [
    "# Basic array slicing is the same as Python list slicing\n",
    "\n",
    "a = numpy.array([0.0, 1.1, 2.2, 3.3, 4.4, 5.5, 6.6, 7.7, 8.8, 9.9])\n",
    "\n",
    "for expr in \"a[3]      \", \"a[3:]     \", \"a[:3]     \", \"a[3:7]    \", \"a[3:7:2]  \", \"a[::2]    \":\n",
    "    print(expr, \"=\", eval(expr))\n",
    "\n",
    "print()\n",
    "for expr in \"a[-3]     \", \"a[-3:]    \", \"a[:-3]    \", \"a[-7:-3]  \", \"a[-7:-3:2]\", \"a[::-1]   \":\n",
    "    print(expr, \"=\", eval(expr))"
   ]
  },
  {
   "cell_type": "code",
   "execution_count": null,
   "metadata": {},
   "outputs": [],
   "source": [
    "# But multidimensional arrays can be sliced with an extension of this syntax.\n",
    "a = numpy.array([[ 0,  1,  2,  3,  4,  5],\n",
    "                 [10, 11, 12, 13, 14, 15],\n",
    "                 [20, 21, 22, 23, 24, 25],\n",
    "                 [30, 31, 32, 33, 34, 35]])\n",
    "for expr in \"a[2:, 1:]\", \"a[:, 1:-1]\", \"a[::2, ::2]\", \"a[:, 3]\":\n",
    "    print(expr, \" =\\n\", eval(expr), sep=\"\", end=\"\\n\\n\")"
   ]
  },
  {
   "cell_type": "code",
   "execution_count": null,
   "metadata": {},
   "outputs": [],
   "source": [
    "# Exercise: slice \"a\" so that it is identical to \"b\"\n",
    "\n",
    "a = numpy.arange(30).reshape((3, 2, 5))\n",
    "b = numpy.array([[4, 9], [24, 29]])\n",
    "\n",
    "asliced = a   # a[?, ?, ?]\n",
    "\n",
    "print(\"a[?, ?, ?] =\", asliced, sep=\"\\n\", end=\"\\n\\n\")\n",
    "print(\"b =\", b, sep=\"\\n\")"
   ]
  },
  {
   "cell_type": "code",
   "execution_count": null,
   "metadata": {},
   "outputs": [],
   "source": [
    "# Numpy indexing goes beyond integers and slices; you can use arrays to index arrays.\n",
    "\n",
    "a    = numpy.array([  0.0,   1.1,   2.2,   3.3,   4.4,  5.5,   6.6,  7.7,   8.8,  9.9])\n",
    "mask = numpy.array([False, False, False, False, False, True, False, True, False, True])\n",
    "#                                                       5.5          7.7          9.9\n",
    "\n",
    "for expr in \"a[mask]\", \"a < 5\", \"a[a < 5]\":\n",
    "    print(expr, \" =\\n\", eval(expr), sep=\"\", end=\"\\n\\n\")"
   ]
  },
  {
   "cell_type": "code",
   "execution_count": null,
   "metadata": {},
   "outputs": [],
   "source": [
    "# This is particularly useful for selecting one array using criteria derived from another.\n",
    "\n",
    "tavg = numpy.loadtxt(\"data/newark-temperature-tavg.txt\")\n",
    "tmin = numpy.loadtxt(\"data/newark-temperature-tmin.txt\")\n",
    "tmax = numpy.loadtxt(\"data/newark-temperature-tmax.txt\")\n",
    "\n",
    "mask = numpy.isnan(tavg)\n",
    "print(\"mask    =\", mask)\n",
    "\n",
    "imputed = (tmin[mask] + tmax[mask]) / 2\n",
    "print(\"imputed = \", imputed)\n",
    "\n",
    "# Careful! Masking an array changes its size!\n",
    "print()\n",
    "print(\"len(tavg)\", len(tavg), \"len(imputed)\", len(imputed))"
   ]
  },
  {
   "cell_type": "code",
   "execution_count": null,
   "metadata": {},
   "outputs": [],
   "source": [
    "# Indexing, including advanced indexing, can be used to ASSIGN to arrays as well.\n",
    "print(\"Assigning a single item:\\ntavg[0] before =\", tavg[0])\n",
    "tavg[0] = imputed[0]\n",
    "print(\"tavg[0] after  =\", tavg[0])\n",
    "\n",
    "print(\"\\nAssigning to a sliced section of the array:\\ntavg[:10] before =\", tavg[:10])\n",
    "tavg[:10] = imputed[:10]\n",
    "print(\"tavg[:10] after  =\", tavg[:10])\n",
    "\n",
    "print(\"\\nAssigning to a masked section of the array:\\ntavg before =\", tavg)\n",
    "tavg[mask] = imputed\n",
    "print(\"tavg after  =\", tavg)"
   ]
  },
  {
   "cell_type": "code",
   "execution_count": null,
   "metadata": {},
   "outputs": [],
   "source": [
    "# Exercise: suppose you only want to impute average temperatures if the max-min difference is not big.\n",
    "# Fill in the last line to make that happen. Printing lengths and error messages are your friends.\n",
    "\n",
    "tavg = numpy.loadtxt(\"data/newark-temperature-tavg.txt\")\n",
    "tmin = numpy.loadtxt(\"data/newark-temperature-tmin.txt\")\n",
    "tmax = numpy.loadtxt(\"data/newark-temperature-tmax.txt\")\n",
    "\n",
    "mask1 = numpy.isnan(tavg)                                # only impute missing average temperatures\n",
    "mask2 = ~(numpy.isnan(tmax) | numpy.isnan(tmin))         # \"nan < 20\" is invalid, so mask that, too\n",
    "mask3 = (mask1 & mask2)                                  # apply both conditions to all rows\n",
    "mask4 = (tmax[mask3] - tmin[mask3] < 20)                 # compute \"tmax - tmin < 20\" only where needed\n",
    "\n",
    "imputed = (tmin[mask3][mask4] + tmax[mask3][mask4]) / 2  # yikes! mask of mask?\n",
    "\n",
    "print(\"; \".join(\"{} = {}\".format(expr, eval(expr))\n",
    "               for expr in (\"len(mask1)\", \"len(mask2)\", \"len(mask3)\", \"len(mask4)\", \"len(imputed)\")))\n",
    "\n",
    "# tavg[???] = imputed[???]      # what should go here?\n",
    "# tavg"
   ]
  },
  {
   "cell_type": "code",
   "execution_count": null,
   "metadata": {},
   "outputs": [],
   "source": [
    "# The real lesson of that previous exercise is that you should avoid maskings of maskings of maskings.\n",
    "\n",
    "# Skipping extra mathematical calculations, as you would in for loops with \"continue\" statements,\n",
    "# is usually counter-productive in vectorized calculations (both ease-of-use AND performance).\n",
    "\n",
    "tavg = numpy.loadtxt(\"data/newark-temperature-tavg.txt\")\n",
    "tmin = numpy.loadtxt(\"data/newark-temperature-tmin.txt\")\n",
    "tmax = numpy.loadtxt(\"data/newark-temperature-tmax.txt\")\n",
    "\n",
    "mask1 = numpy.isnan(tavg)                # only impute missing average temperatures\n",
    "with numpy.errstate(invalid=\"ignore\"):   # let \"nan < 20\" be ignored (\"nan + anything\" → False)\n",
    "    mask2 = (tmax - tmin < 20)\n",
    "mask3 = (mask1 & mask2)                  # everything we combine has the same size\n",
    "\n",
    "imputed = (tmin + tmax) / 2              # compute for all rows: extra math is faster than new arrays!\n",
    "\n",
    "print(\"; \".join(\"{} = {}\".format(expr, eval(expr))\n",
    "               for expr in (\"len(mask1)\", \"len(mask2)\", \"len(mask3)\", \"len(imputed)\")))\n",
    "\n",
    "tavg[mask3] = imputed[mask3]             # same masks on both sides of the equation; easier to read\n",
    "tavg"
   ]
  },
  {
   "cell_type": "code",
   "execution_count": null,
   "metadata": {},
   "outputs": [],
   "source": [
    "# Arrays of integers can also be used as indexes.\n",
    "\n",
    "a = numpy.array([0.0, 1.1, 2.2, 3.3, 4.4, 5.5, 6.6, 7.7, 8.8, 9.9])\n",
    "\n",
    "print(\"selects elements, possibly out of order\")\n",
    "index = numpy.array([3, 5, 0, 9])\n",
    "print(\"a[[3, 5, 0, 9]] =\", a[index])\n",
    "\n",
    "print(\"\\nmay use negative indexing, just like single integers and slices\")\n",
    "index = numpy.array([3, 5, 0, -1, -2, -3])\n",
    "print(\"a[[3, 5, 0, -1, -2, -3]] =\", a[index])\n",
    "\n",
    "print(\"\\nmay include repetitions(!)\")\n",
    "index = numpy.array([3, 5, 0, 9, 9, 9, 3, 5, 0])\n",
    "print(\"a[[3, 5, 0, 9, 9, 9, 3, 5, 0]] =\", a[index])"
   ]
  },
  {
   "cell_type": "code",
   "execution_count": null,
   "metadata": {},
   "outputs": [],
   "source": [
    "# Just as masking with booleans is a generalization of slicing...\n",
    "\n",
    "def slice2mask(a, s):\n",
    "    start, stop, step = s.indices(len(a))\n",
    "    if step > 0:\n",
    "        return numpy.array([start <= i < stop and (i - start) % step == 0 for i in range(len(a))])\n",
    "    else:\n",
    "        raise ValueError(\"masking is only a generalization of slices with positive steps\")\n",
    "\n",
    "a = numpy.array([0.0, 1.1, 2.2, 3.3, 4.4, 5.5, 6.6, 7.7, 8.8, 9.9])\n",
    "\n",
    "s = slice(3, None, 2)   # equivalent to [3::2]\n",
    "\n",
    "mask = slice2mask(a, s)\n",
    "\n",
    "print(\"mask    =\", mask)\n",
    "print(\"a[s]    =\", a[s])\n",
    "print(\"a[mask] =\", a[mask])"
   ]
  },
  {
   "cell_type": "code",
   "execution_count": null,
   "metadata": {},
   "outputs": [],
   "source": [
    "# ...indexing with integers is a generalization of masking.\n",
    "\n",
    "def mask2index(mask):\n",
    "    return numpy.nonzero(mask)[0]\n",
    "\n",
    "a = numpy.array([0.0, 1.1, 2.2, 3.3, 4.4, 5.5, 6.6, 7.7, 8.8, 9.9])\n",
    "\n",
    "mask = [False, False, False, True, False, True, False, True, False, True]\n",
    "\n",
    "index = mask2index(mask)\n",
    "\n",
    "print(\"index    =\", index)\n",
    "print(\"a[mask]  =\", a[mask])\n",
    "print(\"a[index] =\", a[index])"
   ]
  },
  {
   "cell_type": "code",
   "execution_count": null,
   "metadata": {},
   "outputs": [],
   "source": [
    "# Also, indexing with integers is like composing functions of integers from 0 up to array length.\n",
    "\n",
    "def f(x):\n",
    "    return x**2 - 5*x + 10                              # some non-negative function\n",
    "\n",
    "def g(y):\n",
    "    return max(0, 2*y - 10) + 3                         # another non-negative function\n",
    "\n",
    "F   = numpy.array([f(i) for i in numpy.arange(10)])     # sample f at 10 elements\n",
    "G   = numpy.array([g(i) for i in numpy.arange(100)])    # sample g at enough elements to include max(f)\n",
    "GoF = numpy.array([g(f(i)) for i in numpy.arange(10)])  # sample g∘f at 10 elements\n",
    "\n",
    "print(\"G\\u2218F =\", G[F])\n",
    "print(\"g\\u2218f =\", GoF)"
   ]
  },
  {
   "cell_type": "code",
   "execution_count": null,
   "metadata": {},
   "outputs": [],
   "source": [
    "# Application: consider this text corpous (removing punctuation).\n",
    "\n",
    "text = \"\"\"Four score and seven years ago our fathers brought forth on this continent, a new nation,\n",
    "conceived in Liberty, and dedicated to the proposition that all men are created equal.\n",
    "\n",
    "Now we are engaged in a great civil war, testing whether that nation, or any nation so conceived and\n",
    "so dedicated, can long endure. We are met on a great battle-field of that war. We have come to\n",
    "dedicate a portion of that field, as a final resting place for those who here gave their lives that\n",
    "that nation might live. It is altogether fitting and proper that we should do this.\n",
    "\n",
    "But, in a larger sense, we can not dedicate—we can not consecrate—we can not hallow—this ground. The\n",
    "brave men, living and dead, who struggled here, have consecrated it, far above our poor power to add\n",
    "or detract. The world will little note, nor long remember what we say here, but it can never forget\n",
    "what they did here. It is for us the living, rather, to be dedicated here to the unfinished work which\n",
    "they who fought here have thus far so nobly advanced. It is rather for us to be here dedicated to the\n",
    "great task remaining before us—that from these honored dead we take increased devotion to that cause\n",
    "for which they gave the last full measure of devotion—that we here highly resolve that these dead\n",
    "shall not have died in vain—that this nation, under God, shall have a new birth of freedom—and that\n",
    "government of the people, by the people, for the people, shall not perish from the earth.\"\"\"\n",
    "\n",
    "words = text.replace(\".\", \" \").replace(\",\", \" \").replace(\"-\", \" \").replace(\"\\u2014\", \" \").split()"
   ]
  },
  {
   "cell_type": "code",
   "execution_count": null,
   "metadata": {},
   "outputs": [],
   "source": [
    "# Dictionary encoding: for compression or textual analysis (e.g. with machine learning).\n",
    "\n",
    "words = numpy.array(words)\n",
    "dictionary, index = numpy.unique(words, return_inverse=True)\n",
    "\n",
    "print(\"len(words) =\", len(words), \"\\nwords[:25] =\\n\" + str(words[:25]))\n",
    "print(\"\\nlen(dictionary) =\", len(dictionary), \"\\ndictionary[:25] =\\n\" + str(dictionary[:25]))\n",
    "print(\"\\nlen(index) =\", len(index), \"\\nindex[:25] =\\n\" + str(index[:25]))"
   ]
  },
  {
   "cell_type": "code",
   "execution_count": null,
   "metadata": {},
   "outputs": [],
   "source": [
    "# Restoring a text from its dictionary encoding is just an application of integer indexing.\n",
    "\n",
    "# index             : positions in corpus → integer codes\n",
    "# dictionary        : integer codes       → words\n",
    "# dictionary[index] : positions in corpus → words\n",
    "\n",
    "dictionary[index]"
   ]
  },
  {
   "cell_type": "code",
   "execution_count": null,
   "metadata": {},
   "outputs": [],
   "source": [
    "%matplotlib inline\n",
    "import matplotlib.pyplot; matplotlib.pylab.rcParams[\"figure.figsize\"] = 12, 3; matplotlib.pyplot.subplot(1, 2, 1)\n",
    "\n",
    "# Arrays are explicitly specified functions whose domains are [0, number of items).\n",
    "matplotlib.pyplot.plot(tavg[40250:40616])\n",
    "\n",
    "import pandas; df = pandas.read_csv(\"data/newark-temperature.csv\", parse_dates=[\"DATE\"]); df.set_index(df[\"DATE\"], inplace=True); matplotlib.pyplot.subplot(1, 2, 2)\n",
    "\n",
    "# DataFrames are explicitly specified functions whose domains are their indexes.\n",
    "df[\"TAVG\"].loc[pandas.Timestamp(\"2014-01-01\"):pandas.Timestamp(\"2015-01-01\")].plot();"
   ]
  },
  {
   "cell_type": "markdown",
   "metadata": {},
   "source": [
    "### Summary\n",
    "\n",
    "**Basic data type:** n-dimensional arrays.\n",
    "\n",
    "**Basic function type:** element-wise universal function (\"ufunc\").\n",
    "\n",
    "<br>\n",
    "\n",
    "**Extraction with square brackets** `array[X]`:\n",
    "\n",
    "   * **if X is an integer:** selects individual elements;\n",
    "   * **if X is a slice:** selects a contiguous or regularly strided subrange (strides can be backward);\n",
    "   * **if X is a tuple** (any commas between square brackets): applies selections to multiple dimensions;\n",
    "   * **if X is a boolean array:** filters arbitrarily chosen elements (preserving order);\n",
    "   * **if X is an integer array:** applies a function of integers, arbitrarily chosen, in an arbitrary order, and may have duplicates.\n",
    "\n",
    "Not discussed here: [advanced indexing](https://docs.scipy.org/doc/numpy/reference/arrays.indexing.html#advanced-indexing) (boolean and integer arrays) with multiple dimensions steps through all arrays in lock-step. See advanced tutorials."
   ]
  }
 ],
 "metadata": {
  "kernelspec": {
   "display_name": "Python 3",
   "language": "python",
   "name": "python3"
  },
  "language_info": {
   "codemirror_mode": {
    "name": "ipython",
    "version": 3
   },
   "file_extension": ".py",
   "mimetype": "text/x-python",
   "name": "python",
   "nbconvert_exporter": "python",
   "pygments_lexer": "ipython3",
   "version": "3.7.2"
  }
 },
 "nbformat": 4,
 "nbformat_minor": 2
}
