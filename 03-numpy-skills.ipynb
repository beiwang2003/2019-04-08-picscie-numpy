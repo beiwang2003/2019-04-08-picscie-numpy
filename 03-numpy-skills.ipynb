{
 "cells": [
  {
   "cell_type": "markdown",
   "metadata": {},
   "source": [
    "<br><br><br><br><br>\n",
    "\n",
    "# Numpy skills\n",
    "\n",
    "<br><br><br><br><br>"
   ]
  },
  {
   "cell_type": "markdown",
   "metadata": {},
   "source": [
    "<br><br><br><br><br>\n",
    "\n",
    "Apart from Python itself, Numpy is the most basic part of the scientific ecosystem.\n",
    "\n",
    "Although you can look up special functions as you need them, some things are good to have at the tips of your fingers.\n",
    "\n",
    "(And as we've seen, these skills are transferrable to Pandas.)\n",
    "\n",
    "<br><br><br><br><br>"
   ]
  },
  {
   "cell_type": "code",
   "execution_count": 59,
   "metadata": {},
   "outputs": [
    {
     "name": "stdout",
     "output_type": "stream",
     "text": [
      "data:\n",
      " [1073741824 1140850688         -1          0 1090519040 1074790400]\n",
      "\n",
      "type: <class 'numpy.ndarray'>\n",
      "\n",
      "dtype (type of the data it contains): int32\n",
      "\n",
      "shape: (size of each dimension): (6,)\n",
      "\n"
     ]
    }
   ],
   "source": [
    "# Basic data type in Numpy: the n-dimensional array.\n",
    "\n",
    "import numpy\n",
    "\n",
    "a = numpy.array([2**30, 2**30 + 2**26, -1, 0, 2**30 + 2**24, 2**30 + 2**20], numpy.int32)\n",
    "# a = a.view(numpy.float32)\n",
    "# a = a.reshape((2, 3))\n",
    "\n",
    "print(\"data:\\n\", a, end=\"\\n\\n\")\n",
    "print(\"type:\", type(a), end=\"\\n\\n\")\n",
    "print(\"dtype (type of the data it contains):\", a.dtype, end=\"\\n\\n\")\n",
    "print(\"shape: (size of each dimension):\", a.shape, end=\"\\n\\n\")"
   ]
  },
  {
   "cell_type": "code",
   "execution_count": 3,
   "metadata": {},
   "outputs": [
    {
     "name": "stdout",
     "output_type": "stream",
     "text": [
      "func: <ufunc 'sqrt'>\n",
      "type: <class 'numpy.ufunc'>\n",
      "\n",
      "1073741824.0      →      32768.0\n",
      "1140850688.0      →      33776.5\n",
      "        -1.0      →          nan\n",
      "         0.0      →          0.0\n",
      "1090519040.0      →      33023.0\n",
      "1074790400.0      →      32784.0\n"
     ]
    }
   ],
   "source": [
    "# Basic function type in Numpy: the universal function or \"ufunc\".\n",
    "\n",
    "print(\"func:\", numpy.sqrt)\n",
    "print(\"type:\", type(numpy.sqrt))\n",
    "\n",
    "with numpy.errstate(invalid=\"ignore\"):    # to silently let sqrt(-1) → nan\n",
    "    b = numpy.sqrt(a)                     # call the ufunc!\n",
    "\n",
    "print()\n",
    "for ai, bi in zip(a, b):\n",
    "    print(\"{:12.1f}      \\u2192 {:12.1f}\".format(ai, bi))"
   ]
  },
  {
   "cell_type": "code",
   "execution_count": 38,
   "metadata": {},
   "outputs": [
    {
     "name": "stdout",
     "output_type": "stream",
     "text": [
      "<ufunc 'add'>.__call__ is being called on\n",
      "    [  3.14   2.71 999.9 ]\n",
      "    [1.1 2.2 3.3]\n",
      "with keyword arguments {}\n"
     ]
    },
    {
     "data": {
      "text/plain": [
       "array([   4.24,    4.91, 1003.2 ])"
      ]
     },
     "execution_count": 38,
     "metadata": {},
     "output_type": "execute_result"
    }
   ],
   "source": [
    "# Even operations like +, -, *, / are ufuncs.\n",
    "\n",
    "class CatchUFunc:\n",
    "    def __init__(self, array):\n",
    "        self.array = array\n",
    "\n",
    "    # The following method overrides ufuncs, just to show what's being called. It's an ADVANCED topic.\n",
    "    def __array_ufunc__(self, ufunc, method, *inputs, **kwargs):\n",
    "        inputs = [x.array if isinstance(x, CatchUFunc) else x for x in inputs]\n",
    "        print(\"{}.{} is being called on{}\\nwith keyword arguments {}\".format(\n",
    "            ufunc, method, \"\".join(\"\\n    \" + str(x) for x in inputs), kwargs))\n",
    "        return getattr(ufunc, method)(*inputs, **kwargs)\n",
    "\n",
    "a = numpy.array([3.14, 2.71, 999.9])\n",
    "b = CatchUFunc(numpy.array([1.1, 2.2, 3.3]))\n",
    "\n",
    "a + b"
   ]
  },
  {
   "cell_type": "markdown",
   "metadata": {},
   "source": [
    "<br><br><br>\n",
    "\n",
    "**If you're working with a ufunc,**\n",
    "\n",
    "   * your input arrays (1 or more) must have the same `shape`;\n",
    "   * your output array (only 1) will have the same `shape`;\n",
    "   * a simple function is applied to each element, index for index (`out[i] = f(in[i])`);\n",
    "   * you don't know the order in which they're applied, or if some are applied simultaneously (vectorized).\n",
    "\n",
    "Numpy has other functions that do more complex things, but they are not ufuncs.\n",
    "\n",
    "<br><br><br>"
   ]
  },
  {
   "cell_type": "markdown",
   "metadata": {},
   "source": [
    "<br><br><br><br><br>\n",
    "\n",
    "### Slicing Numpy arrays\n",
    "\n",
    "<br><br><br><br><br>"
   ]
  },
  {
   "cell_type": "code",
   "execution_count": 52,
   "metadata": {},
   "outputs": [
    {
     "name": "stdout",
     "output_type": "stream",
     "text": [
      "a[3]       = 3.3\n",
      "a[3:]      = [3.3 4.4 5.5 6.6 7.7 8.8 9.9]\n",
      "a[:3]      = [0.  1.1 2.2]\n",
      "a[3:7]     = [3.3 4.4 5.5 6.6]\n",
      "a[3:7:2]   = [3.3 5.5]\n",
      "a[::2]     = [0.  2.2 4.4 6.6 8.8]\n",
      "\n",
      "a[-3]      = 7.7\n",
      "a[-3:]     = [7.7 8.8 9.9]\n",
      "a[:-3]     = [0.  1.1 2.2 3.3 4.4 5.5 6.6]\n",
      "a[-7:-3]   = [3.3 4.4 5.5 6.6]\n",
      "a[-7:-3:2] = [3.3 5.5]\n",
      "a[::-1]    = [9.9 8.8 7.7 6.6 5.5 4.4 3.3 2.2 1.1 0. ]\n"
     ]
    }
   ],
   "source": [
    "# Basic array slicing is the same as Python list slicing\n",
    "\n",
    "a = numpy.array([0.0, 1.1, 2.2, 3.3, 4.4, 5.5, 6.6, 7.7, 8.8, 9.9])\n",
    "\n",
    "for expr in \"a[3]      \", \"a[3:]     \", \"a[:3]     \", \"a[3:7]    \", \"a[3:7:2]  \", \"a[::2]    \":\n",
    "    print(expr, \"=\", eval(expr))\n",
    "\n",
    "print()\n",
    "for expr in \"a[-3]     \", \"a[-3:]    \", \"a[:-3]    \", \"a[-7:-3]  \", \"a[-7:-3:2]\", \"a[::-1]   \":\n",
    "    print(expr, \"=\", eval(expr))"
   ]
  },
  {
   "cell_type": "code",
   "execution_count": 68,
   "metadata": {},
   "outputs": [
    {
     "name": "stdout",
     "output_type": "stream",
     "text": [
      "a[2:, 1:] =\n",
      "[[21 22 23 24 25]\n",
      " [31 32 33 34 35]]\n",
      "\n",
      "a[:, 1:-1] =\n",
      "[[ 1  2  3  4]\n",
      " [11 12 13 14]\n",
      " [21 22 23 24]\n",
      " [31 32 33 34]]\n",
      "\n",
      "a[::2, ::2] =\n",
      "[[ 0  2  4]\n",
      " [20 22 24]]\n",
      "\n",
      "a[:, 3] =\n",
      "[ 3 13 23 33]\n",
      "\n"
     ]
    }
   ],
   "source": [
    "# But multidimensional arrays can be sliced with an extension of this syntax.\n",
    "a = numpy.array([[ 0,  1,  2,  3,  4,  5],\n",
    "                 [10, 11, 12, 13, 14, 15],\n",
    "                 [20, 21, 22, 23, 24, 25],\n",
    "                 [30, 31, 32, 33, 34, 35]])\n",
    "for expr in \"a[2:, 1:]\", \"a[:, 1:-1]\", \"a[::2, ::2]\", \"a[:, 3]\":\n",
    "    print(expr, \" =\\n\", eval(expr), sep=\"\", end=\"\\n\\n\")"
   ]
  },
  {
   "cell_type": "code",
   "execution_count": 95,
   "metadata": {},
   "outputs": [
    {
     "name": "stdout",
     "output_type": "stream",
     "text": [
      "a[?, ?, ?] =\n",
      "[[[ 0  1  2  3  4]\n",
      "  [ 5  6  7  8  9]]\n",
      "\n",
      " [[10 11 12 13 14]\n",
      "  [15 16 17 18 19]]\n",
      "\n",
      " [[20 21 22 23 24]\n",
      "  [25 26 27 28 29]]]\n",
      "\n",
      "b =\n",
      "[[ 4  9]\n",
      " [24 29]]\n"
     ]
    }
   ],
   "source": [
    "# Exercise: slice \"a\" so that it is identical to \"b\"\n",
    "\n",
    "a = numpy.arange(30).reshape((3, 2, 5))\n",
    "b = numpy.array([[4, 9], [24, 29]])\n",
    "\n",
    "asliced = a   # a[?, ?, ?]\n",
    "\n",
    "print(\"a[?, ?, ?] =\", asliced, sep=\"\\n\", end=\"\\n\\n\")\n",
    "print(\"b =\", b, sep=\"\\n\")"
   ]
  },
  {
   "cell_type": "code",
   "execution_count": 99,
   "metadata": {},
   "outputs": [
    {
     "name": "stdout",
     "output_type": "stream",
     "text": [
      "a[mask] =\n",
      "[5.5 7.7 9.9]\n",
      "\n",
      "a < 5 =\n",
      "[ True  True  True  True  True False False False False False]\n",
      "\n",
      "a[a < 5] =\n",
      "[0.  1.1 2.2 3.3 4.4]\n",
      "\n"
     ]
    }
   ],
   "source": [
    "# Numpy indexing goes beyond integers and slices; you can use arrays to index arrays.\n",
    "\n",
    "a    = numpy.array([  0.0,   1.1,   2.2,   3.3,   4.4,  5.5,   6.6,  7.7,   8.8,  9.9])\n",
    "mask = numpy.array([False, False, False, False, False, True, False, True, False, True])\n",
    "#                                                       5.5          7.7          9.9\n",
    "\n",
    "for expr in \"a[mask]\", \"a < 5\", \"a[a < 5]\":\n",
    "    print(expr, \" =\\n\", eval(expr), sep=\"\", end=\"\\n\\n\")"
   ]
  },
  {
   "cell_type": "code",
   "execution_count": 112,
   "metadata": {},
   "outputs": [
    {
     "name": "stdout",
     "output_type": "stream",
     "text": [
      "mask    = [ True  True  True ... False False False]\n",
      "imputed =  [39.  38.5 24.5 ... 49.5 47.  43.5]\n",
      "\n",
      "len(tavg) 42019 len(imputed) 37301\n"
     ]
    }
   ],
   "source": [
    "# This is particularly useful for selecting one array using criteria derived from another.\n",
    "\n",
    "tavg = numpy.loadtxt(\"data/newark-temperature-tavg.txt\")\n",
    "tmin = numpy.loadtxt(\"data/newark-temperature-tmin.txt\")\n",
    "tmax = numpy.loadtxt(\"data/newark-temperature-tmax.txt\")\n",
    "\n",
    "mask = numpy.isnan(tavg)\n",
    "print(\"mask    =\", mask)\n",
    "\n",
    "imputed = (tmin[mask] + tmax[mask]) / 2\n",
    "print(\"imputed = \", imputed)\n",
    "\n",
    "# Careful! Masking an array changes its size!\n",
    "print()\n",
    "print(\"len(tavg)\", len(tavg), \"len(imputed)\", len(imputed))"
   ]
  },
  {
   "cell_type": "code",
   "execution_count": 113,
   "metadata": {},
   "outputs": [
    {
     "name": "stdout",
     "output_type": "stream",
     "text": [
      "Assigning a single item:\n",
      "tavg[0] before = nan\n",
      "tavg[0] after  = 39.0\n",
      "\n",
      "Assigning to a sliced section of the array:\n",
      "tavg[:10] before = [39. nan nan nan nan nan nan nan nan nan]\n",
      "tavg[:10] after  = [39.  38.5 24.5 18.  22.  21.5 20.  21.5 21.5 18. ]\n",
      "\n",
      "Assigning to a masked section of the array:\n",
      "tavg before = [39.  38.5 24.5 ... 68.  59.  47. ]\n",
      "tavg after  = [39.  38.5 24.5 ... 68.  59.  47. ]\n"
     ]
    }
   ],
   "source": [
    "# Indexing, including advanced indexing, can be used to ASSIGN to arrays as well.\n",
    "print(\"Assigning a single item:\\ntavg[0] before =\", tavg[0])\n",
    "tavg[0] = imputed[0]\n",
    "print(\"tavg[0] after  =\", tavg[0])\n",
    "\n",
    "print(\"\\nAssigning to a sliced section of the array:\\ntavg[:10] before =\", tavg[:10])\n",
    "tavg[:10] = imputed[:10]\n",
    "print(\"tavg[:10] after  =\", tavg[:10])\n",
    "\n",
    "print(\"\\nAssigning to a masked section of the array:\\ntavg before =\", tavg)\n",
    "tavg[mask] = imputed\n",
    "print(\"tavg after  =\", tavg)"
   ]
  },
  {
   "cell_type": "code",
   "execution_count": 146,
   "metadata": {},
   "outputs": [
    {
     "name": "stdout",
     "output_type": "stream",
     "text": [
      "len(mask1) = 42019; len(mask2) = 42019; len(mask3) = 42019; len(mask4) = 37120; len(imputed) = 24284\n"
     ]
    }
   ],
   "source": [
    "# Exercise: suppose you only want to impute average temperatures if the max-min difference is not big.\n",
    "# Fill in the last line to make that happen. Printing lengths and error messages are your friends.\n",
    "\n",
    "tavg = numpy.loadtxt(\"data/newark-temperature-tavg.txt\")\n",
    "tmin = numpy.loadtxt(\"data/newark-temperature-tmin.txt\")\n",
    "tmax = numpy.loadtxt(\"data/newark-temperature-tmax.txt\")\n",
    "\n",
    "mask1 = numpy.isnan(tavg)\n",
    "mask2 = ~(numpy.isnan(tmax) | numpy.isnan(tmin))\n",
    "mask3 = (mask1 & mask2)\n",
    "mask4 = (tmax[mask3] - tmin[mask3] < 20)\n",
    "\n",
    "imputed = (tmin[mask3][mask4] + tmax[mask3][mask4]) / 2\n",
    "\n",
    "print(\"; \".join(\"{} = {}\".format(expr, eval(expr))\n",
    "               for expr in (\"len(mask1)\", \"len(mask2)\", \"len(mask3)\", \"len(mask4)\", \"len(imputed)\")))\n",
    "\n",
    "# tavg[???] = imputed[???]      # what should go here?\n",
    "# tavg"
   ]
  }
 ],
 "metadata": {
  "kernelspec": {
   "display_name": "Python 3",
   "language": "python",
   "name": "python3"
  },
  "language_info": {
   "codemirror_mode": {
    "name": "ipython",
    "version": 3
   },
   "file_extension": ".py",
   "mimetype": "text/x-python",
   "name": "python",
   "nbconvert_exporter": "python",
   "pygments_lexer": "ipython3",
   "version": "3.7.2"
  }
 },
 "nbformat": 4,
 "nbformat_minor": 2
}
